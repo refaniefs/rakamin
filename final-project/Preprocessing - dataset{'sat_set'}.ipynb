{
  "nbformat": 4,
  "nbformat_minor": 0,
  "metadata": {
    "colab": {
      "name": "Preprocessing - dataset{'sat_set'}.ipynb",
      "provenance": [],
      "collapsed_sections": [],
      "toc_visible": true
    },
    "kernelspec": {
      "name": "python3",
      "display_name": "Python 3"
    },
    "language_info": {
      "name": "python"
    }
  },
  "cells": [
    {
      "cell_type": "markdown",
      "source": [
        "# Kelompok 6: E-commerce Shipping\n",
        "- Ketua: Refanie FS\n",
        "- Anggota:\n",
        "1. Nur Cahyanti\n",
        "2. Handika\n",
        "3. Indra Laksana\n",
        "4. Fajar Nurdiono\n",
        "5. Utlia Rahma"
      ],
      "metadata": {
        "id": "OT1AMImbKRUr"
      }
    },
    {
      "cell_type": "markdown",
      "source": [
        "# [0] Initiation"
      ],
      "metadata": {
        "id": "Qrpkga5pSPmP"
      }
    },
    {
      "cell_type": "code",
      "execution_count": null,
      "metadata": {
        "colab": {
          "base_uri": "https://localhost:8080/"
        },
        "id": "dokZBR19I-4H",
        "outputId": "2a3f170b-e3d1-4ccf-90e3-2e8d2f19277f"
      },
      "outputs": [
        {
          "output_type": "stream",
          "name": "stdout",
          "text": [
            "Cloning into 'rakamin'...\n",
            "remote: Enumerating objects: 27, done.\u001b[K\n",
            "remote: Counting objects: 100% (27/27), done.\u001b[K\n",
            "remote: Compressing objects: 100% (23/23), done.\u001b[K\n",
            "remote: Total 27 (delta 2), reused 0 (delta 0), pack-reused 0\u001b[K\n",
            "Unpacking objects: 100% (27/27), done.\n"
          ]
        }
      ],
      "source": [
        "# Run to access the CSV file\n",
        "!git clone https://github.com/refaniefs/rakamin.git"
      ]
    },
    {
      "cell_type": "code",
      "source": [
        "# Run to install and import packages\n",
        "!pip install --upgrade xlrd\n",
        "import pandas as pd\n",
        "import numpy as np\n",
        "import matplotlib.pyplot as plt\n",
        "import seaborn as sns"
      ],
      "metadata": {
        "colab": {
          "base_uri": "https://localhost:8080/"
        },
        "id": "HHj3HL_NKeyp",
        "outputId": "fefc5491-c3b1-4ba8-da92-1b39aa2dd21c"
      },
      "execution_count": null,
      "outputs": [
        {
          "output_type": "stream",
          "name": "stdout",
          "text": [
            "Requirement already satisfied: xlrd in /usr/local/lib/python3.7/dist-packages (1.1.0)\n",
            "Collecting xlrd\n",
            "  Downloading xlrd-2.0.1-py2.py3-none-any.whl (96 kB)\n",
            "\u001b[K     |████████████████████████████████| 96 kB 3.9 MB/s \n",
            "\u001b[?25hInstalling collected packages: xlrd\n",
            "  Attempting uninstall: xlrd\n",
            "    Found existing installation: xlrd 1.1.0\n",
            "    Uninstalling xlrd-1.1.0:\n",
            "      Successfully uninstalled xlrd-1.1.0\n",
            "Successfully installed xlrd-2.0.1\n"
          ]
        }
      ]
    },
    {
      "cell_type": "code",
      "source": [
        "# data path\n",
        "df = pd.read_csv('rakamin/final-project/shipping.csv')\n",
        "df.sample(5)"
      ],
      "metadata": {
        "colab": {
          "base_uri": "https://localhost:8080/",
          "height": 270
        },
        "id": "D_0tOQmTQExj",
        "outputId": "1dd8aab2-b66d-458f-ebb8-c9e743e9035d"
      },
      "execution_count": null,
      "outputs": [
        {
          "output_type": "execute_result",
          "data": {
            "text/plain": [
              "        ID Warehouse_block Mode_of_Shipment  Customer_care_calls  \\\n",
              "8584  8585               C             Ship                    3   \n",
              "55      56               F             Ship                    2   \n",
              "2008  2009               C             Ship                    3   \n",
              "1791  1792               B           Flight                    4   \n",
              "6485  6486               F             Ship                    3   \n",
              "\n",
              "      Customer_rating  Cost_of_the_Product  Prior_purchases  \\\n",
              "8584                2                  154               10   \n",
              "55                  5                  246                5   \n",
              "2008                2                  134                3   \n",
              "1791                4                  137                2   \n",
              "6485                4                  260                4   \n",
              "\n",
              "     Product_importance Gender  Discount_offered  Weight_in_gms  \\\n",
              "8584               high      F                 8           5811   \n",
              "55                  low      M                46           2437   \n",
              "2008             medium      F                54           1932   \n",
              "1791             medium      M                37           1447   \n",
              "6485             medium      M                10           5425   \n",
              "\n",
              "      Reached.on.Time_Y.N  \n",
              "8584                    1  \n",
              "55                      1  \n",
              "2008                    1  \n",
              "1791                    1  \n",
              "6485                    0  "
            ],
            "text/html": [
              "\n",
              "  <div id=\"df-cee8fca7-bc25-4c03-99ae-19fde627c838\">\n",
              "    <div class=\"colab-df-container\">\n",
              "      <div>\n",
              "<style scoped>\n",
              "    .dataframe tbody tr th:only-of-type {\n",
              "        vertical-align: middle;\n",
              "    }\n",
              "\n",
              "    .dataframe tbody tr th {\n",
              "        vertical-align: top;\n",
              "    }\n",
              "\n",
              "    .dataframe thead th {\n",
              "        text-align: right;\n",
              "    }\n",
              "</style>\n",
              "<table border=\"1\" class=\"dataframe\">\n",
              "  <thead>\n",
              "    <tr style=\"text-align: right;\">\n",
              "      <th></th>\n",
              "      <th>ID</th>\n",
              "      <th>Warehouse_block</th>\n",
              "      <th>Mode_of_Shipment</th>\n",
              "      <th>Customer_care_calls</th>\n",
              "      <th>Customer_rating</th>\n",
              "      <th>Cost_of_the_Product</th>\n",
              "      <th>Prior_purchases</th>\n",
              "      <th>Product_importance</th>\n",
              "      <th>Gender</th>\n",
              "      <th>Discount_offered</th>\n",
              "      <th>Weight_in_gms</th>\n",
              "      <th>Reached.on.Time_Y.N</th>\n",
              "    </tr>\n",
              "  </thead>\n",
              "  <tbody>\n",
              "    <tr>\n",
              "      <th>8584</th>\n",
              "      <td>8585</td>\n",
              "      <td>C</td>\n",
              "      <td>Ship</td>\n",
              "      <td>3</td>\n",
              "      <td>2</td>\n",
              "      <td>154</td>\n",
              "      <td>10</td>\n",
              "      <td>high</td>\n",
              "      <td>F</td>\n",
              "      <td>8</td>\n",
              "      <td>5811</td>\n",
              "      <td>1</td>\n",
              "    </tr>\n",
              "    <tr>\n",
              "      <th>55</th>\n",
              "      <td>56</td>\n",
              "      <td>F</td>\n",
              "      <td>Ship</td>\n",
              "      <td>2</td>\n",
              "      <td>5</td>\n",
              "      <td>246</td>\n",
              "      <td>5</td>\n",
              "      <td>low</td>\n",
              "      <td>M</td>\n",
              "      <td>46</td>\n",
              "      <td>2437</td>\n",
              "      <td>1</td>\n",
              "    </tr>\n",
              "    <tr>\n",
              "      <th>2008</th>\n",
              "      <td>2009</td>\n",
              "      <td>C</td>\n",
              "      <td>Ship</td>\n",
              "      <td>3</td>\n",
              "      <td>2</td>\n",
              "      <td>134</td>\n",
              "      <td>3</td>\n",
              "      <td>medium</td>\n",
              "      <td>F</td>\n",
              "      <td>54</td>\n",
              "      <td>1932</td>\n",
              "      <td>1</td>\n",
              "    </tr>\n",
              "    <tr>\n",
              "      <th>1791</th>\n",
              "      <td>1792</td>\n",
              "      <td>B</td>\n",
              "      <td>Flight</td>\n",
              "      <td>4</td>\n",
              "      <td>4</td>\n",
              "      <td>137</td>\n",
              "      <td>2</td>\n",
              "      <td>medium</td>\n",
              "      <td>M</td>\n",
              "      <td>37</td>\n",
              "      <td>1447</td>\n",
              "      <td>1</td>\n",
              "    </tr>\n",
              "    <tr>\n",
              "      <th>6485</th>\n",
              "      <td>6486</td>\n",
              "      <td>F</td>\n",
              "      <td>Ship</td>\n",
              "      <td>3</td>\n",
              "      <td>4</td>\n",
              "      <td>260</td>\n",
              "      <td>4</td>\n",
              "      <td>medium</td>\n",
              "      <td>M</td>\n",
              "      <td>10</td>\n",
              "      <td>5425</td>\n",
              "      <td>0</td>\n",
              "    </tr>\n",
              "  </tbody>\n",
              "</table>\n",
              "</div>\n",
              "      <button class=\"colab-df-convert\" onclick=\"convertToInteractive('df-cee8fca7-bc25-4c03-99ae-19fde627c838')\"\n",
              "              title=\"Convert this dataframe to an interactive table.\"\n",
              "              style=\"display:none;\">\n",
              "        \n",
              "  <svg xmlns=\"http://www.w3.org/2000/svg\" height=\"24px\"viewBox=\"0 0 24 24\"\n",
              "       width=\"24px\">\n",
              "    <path d=\"M0 0h24v24H0V0z\" fill=\"none\"/>\n",
              "    <path d=\"M18.56 5.44l.94 2.06.94-2.06 2.06-.94-2.06-.94-.94-2.06-.94 2.06-2.06.94zm-11 1L8.5 8.5l.94-2.06 2.06-.94-2.06-.94L8.5 2.5l-.94 2.06-2.06.94zm10 10l.94 2.06.94-2.06 2.06-.94-2.06-.94-.94-2.06-.94 2.06-2.06.94z\"/><path d=\"M17.41 7.96l-1.37-1.37c-.4-.4-.92-.59-1.43-.59-.52 0-1.04.2-1.43.59L10.3 9.45l-7.72 7.72c-.78.78-.78 2.05 0 2.83L4 21.41c.39.39.9.59 1.41.59.51 0 1.02-.2 1.41-.59l7.78-7.78 2.81-2.81c.8-.78.8-2.07 0-2.86zM5.41 20L4 18.59l7.72-7.72 1.47 1.35L5.41 20z\"/>\n",
              "  </svg>\n",
              "      </button>\n",
              "      \n",
              "  <style>\n",
              "    .colab-df-container {\n",
              "      display:flex;\n",
              "      flex-wrap:wrap;\n",
              "      gap: 12px;\n",
              "    }\n",
              "\n",
              "    .colab-df-convert {\n",
              "      background-color: #E8F0FE;\n",
              "      border: none;\n",
              "      border-radius: 50%;\n",
              "      cursor: pointer;\n",
              "      display: none;\n",
              "      fill: #1967D2;\n",
              "      height: 32px;\n",
              "      padding: 0 0 0 0;\n",
              "      width: 32px;\n",
              "    }\n",
              "\n",
              "    .colab-df-convert:hover {\n",
              "      background-color: #E2EBFA;\n",
              "      box-shadow: 0px 1px 2px rgba(60, 64, 67, 0.3), 0px 1px 3px 1px rgba(60, 64, 67, 0.15);\n",
              "      fill: #174EA6;\n",
              "    }\n",
              "\n",
              "    [theme=dark] .colab-df-convert {\n",
              "      background-color: #3B4455;\n",
              "      fill: #D2E3FC;\n",
              "    }\n",
              "\n",
              "    [theme=dark] .colab-df-convert:hover {\n",
              "      background-color: #434B5C;\n",
              "      box-shadow: 0px 1px 3px 1px rgba(0, 0, 0, 0.15);\n",
              "      filter: drop-shadow(0px 1px 2px rgba(0, 0, 0, 0.3));\n",
              "      fill: #FFFFFF;\n",
              "    }\n",
              "  </style>\n",
              "\n",
              "      <script>\n",
              "        const buttonEl =\n",
              "          document.querySelector('#df-cee8fca7-bc25-4c03-99ae-19fde627c838 button.colab-df-convert');\n",
              "        buttonEl.style.display =\n",
              "          google.colab.kernel.accessAllowed ? 'block' : 'none';\n",
              "\n",
              "        async function convertToInteractive(key) {\n",
              "          const element = document.querySelector('#df-cee8fca7-bc25-4c03-99ae-19fde627c838');\n",
              "          const dataTable =\n",
              "            await google.colab.kernel.invokeFunction('convertToInteractive',\n",
              "                                                     [key], {});\n",
              "          if (!dataTable) return;\n",
              "\n",
              "          const docLinkHtml = 'Like what you see? Visit the ' +\n",
              "            '<a target=\"_blank\" href=https://colab.research.google.com/notebooks/data_table.ipynb>data table notebook</a>'\n",
              "            + ' to learn more about interactive tables.';\n",
              "          element.innerHTML = '';\n",
              "          dataTable['output_type'] = 'display_data';\n",
              "          await google.colab.output.renderOutput(dataTable, element);\n",
              "          const docLink = document.createElement('div');\n",
              "          docLink.innerHTML = docLinkHtml;\n",
              "          element.appendChild(docLink);\n",
              "        }\n",
              "      </script>\n",
              "    </div>\n",
              "  </div>\n",
              "  "
            ]
          },
          "metadata": {},
          "execution_count": 3
        }
      ]
    },
    {
      "cell_type": "code",
      "source": [
        "# pengelompokan kolom berdasarkan jenisnya\n",
        "nums = ['ID', 'Customer_care_calls', 'Customer_rating', 'Cost_of_the_Product', 'Prior_purchases', 'Discount_offered', 'Weight_in_gms', 'Reached.on.Time_Y.N']\n",
        "cats = ['Warehouse_block', 'Mode_of_Shipment', 'Product_importance', 'Gender']"
      ],
      "metadata": {
        "id": "UHspxZW1eJZg"
      },
      "execution_count": null,
      "outputs": []
    },
    {
      "cell_type": "markdown",
      "source": [
        "# [1] Data Cleansing"
      ],
      "metadata": {
        "id": "Jmk6fWCPQS20"
      }
    },
    {
      "cell_type": "markdown",
      "source": [
        "## (A) Handling Missing Values"
      ],
      "metadata": {
        "id": "fAvBNQxSQoDK"
      }
    },
    {
      "cell_type": "code",
      "source": [
        "df.isna().sum()"
      ],
      "metadata": {
        "colab": {
          "base_uri": "https://localhost:8080/"
        },
        "id": "XfZvxMQsSYCW",
        "outputId": "36cf5ee6-e544-4e60-96c8-ceace5abc34e"
      },
      "execution_count": null,
      "outputs": [
        {
          "output_type": "execute_result",
          "data": {
            "text/plain": [
              "ID                     0\n",
              "Warehouse_block        0\n",
              "Mode_of_Shipment       0\n",
              "Customer_care_calls    0\n",
              "Customer_rating        0\n",
              "Cost_of_the_Product    0\n",
              "Prior_purchases        0\n",
              "Product_importance     0\n",
              "Gender                 0\n",
              "Discount_offered       0\n",
              "Weight_in_gms          0\n",
              "Reached.on.Time_Y.N    0\n",
              "dtype: int64"
            ]
          },
          "metadata": {},
          "execution_count": 30
        }
      ]
    },
    {
      "cell_type": "markdown",
      "source": [
        "Tidak ada kolom yang memiliki missing values."
      ],
      "metadata": {
        "id": "ybf2XOr8S0W9"
      }
    },
    {
      "cell_type": "markdown",
      "source": [
        "## (B) Handling Duplicated Data"
      ],
      "metadata": {
        "id": "OUrZAULKQxHG"
      }
    },
    {
      "cell_type": "code",
      "source": [
        "df.duplicated().any()"
      ],
      "metadata": {
        "colab": {
          "base_uri": "https://localhost:8080/"
        },
        "id": "LnkxUpQ8S8xt",
        "outputId": "15a86ec6-c3a8-40bb-87d4-544dd694cccd"
      },
      "execution_count": null,
      "outputs": [
        {
          "output_type": "execute_result",
          "data": {
            "text/plain": [
              "False"
            ]
          },
          "metadata": {},
          "execution_count": 31
        }
      ]
    },
    {
      "cell_type": "markdown",
      "source": [
        "Tidak ada kolom yang memiliki data duplikat."
      ],
      "metadata": {
        "id": "j38TNPbDTAEq"
      }
    },
    {
      "cell_type": "markdown",
      "source": [
        "## (C) Feature Transformation"
      ],
      "metadata": {
        "id": "TDybqMUvRMyp"
      }
    },
    {
      "cell_type": "markdown",
      "source": [
        "### Sebelum Ditransformasi"
      ],
      "metadata": {
        "id": "7GT68IpaZL0x"
      }
    },
    {
      "cell_type": "code",
      "source": [
        "# Kdeplot sebelum transformasi\n",
        "features = nums\n",
        "plt.figure(figsize=(16, 8))\n",
        "for i in range(0, len(nums)):\n",
        "    plt.subplot(2, 4, i+1)\n",
        "    sns.kdeplot(x=df[features[i]], color='teal')\n",
        "    plt.xlabel(features[i])\n",
        "    plt.tight_layout()"
      ],
      "metadata": {
        "colab": {
          "base_uri": "https://localhost:8080/",
          "height": 561
        },
        "id": "OnAbZpUG472c",
        "outputId": "94ce59f1-1356-41c7-a37b-fbf3a6d7cdb5"
      },
      "execution_count": null,
      "outputs": [
        {
          "output_type": "display_data",
          "data": {
            "text/plain": [
              "<Figure size 1152x576 with 8 Axes>"
            ],
            "image/png": "[encoded data removed]"
          },
          "metadata": {
            "needs_background": "light"
          }
        }
      ]
    },
    {
      "cell_type": "code",
      "source": [
        "# Boxplot sebelum transformasi\n",
        "features = nums\n",
        "plt.figure(figsize=(17, 8))\n",
        "for i in range(0, len(features)):\n",
        "    plt.subplot(1, len(features), i+1)\n",
        "    sns.boxplot(y=df[features[i]], color='darkcyan', orient='v')\n",
        "    plt.tight_layout()"
      ],
      "metadata": {
        "colab": {
          "base_uri": "https://localhost:8080/",
          "height": 529
        },
        "id": "VvaDYcIF5Ny4",
        "outputId": "b54a54f9-ac19-43ea-cabf-8fa31eb59add"
      },
      "execution_count": null,
      "outputs": [
        {
          "output_type": "display_data",
          "data": {
            "text/plain": [
              "<Figure size 1224x576 with 8 Axes>"
            ],
            "image/png": "[encoded data removed]"
          },
          "metadata": {
            "needs_background": "light"
          }
        }
      ]
    },
    {
      "cell_type": "markdown",
      "source": [
        "### Quantile Transformation (opsi 1)"
      ],
      "metadata": {
        "id": "k7lygBTn2BPI"
      }
    },
    {
      "cell_type": "code",
      "source": [
        "from sklearn.preprocessing import QuantileTransformer\n",
        "quantile = QuantileTransformer(output_distribution='normal')"
      ],
      "metadata": {
        "id": "7iTUDBCRRXaB"
      },
      "execution_count": null,
      "outputs": []
    },
    {
      "cell_type": "code",
      "source": [
        "df['Cost_of_the_Product_tr'] = quantile.fit_transform(df['Cost_of_the_Product'].values.reshape(len(df), 1))\n",
        "df['Discount_offered_tr'] = quantile.fit_transform(df['Discount_offered'].values.reshape(len(df), 1))\n",
        "df['Customer_care_calls_tr'] = quantile.fit_transform(df['Customer_care_calls'].values.reshape(len(df), 1))\n",
        "df['Weight_in_gms_tr'] = quantile.fit_transform(df['Weight_in_gms'].values.reshape(len(df), 1))\n",
        "df['Prior_purchases_tr'] = quantile.fit_transform(df['Prior_purchases'].values.reshape(len(df), 1))"
      ],
      "metadata": {
        "id": "yEvpfT-gozlQ"
      },
      "execution_count": null,
      "outputs": []
    },
    {
      "cell_type": "code",
      "source": [
        "nums_trans1 = ['Customer_care_calls_tr', 'Customer_rating', 'Cost_of_the_Product_tr', 'Prior_purchases_tr', 'Discount_offered_tr', 'Weight_in_gms_tr']\n",
        "features1 = nums_trans1\n",
        "plt.figure(figsize=(16, 8))\n",
        "for i in range(0, len(features1)):\n",
        "    plt.subplot(2, 3, i+1)\n",
        "    sns.kdeplot(x=df[features1[i]], color='orange')\n",
        "    plt.xlabel(features1[i])\n",
        "    plt.tight_layout()"
      ],
      "metadata": {
        "id": "aSvkUpFKo2PW",
        "colab": {
          "base_uri": "https://localhost:8080/",
          "height": 561
        },
        "outputId": "e4a1b213-3268-4261-ea3f-6f0333a7641c"
      },
      "execution_count": null,
      "outputs": [
        {
          "output_type": "display_data",
          "data": {
            "text/plain": [
              "<Figure size 1152x576 with 6 Axes>"
            ],
            "image/png": "[encoded data removed]"
          },
          "metadata": {
            "needs_background": "light"
          }
        }
      ]
    },
    {
      "cell_type": "code",
      "source": [
        "features1 = nums_trans1\n",
        "plt.figure(figsize=(15, 10))\n",
        "for i in range(0, len(features1)):\n",
        "    plt.subplot(1, len(features1), i+1)\n",
        "    sns.boxplot(y=df[features1[i]], color='orange', orient='v')\n",
        "    plt.tight_layout()"
      ],
      "metadata": {
        "id": "4tflRK9sChJM",
        "colab": {
          "base_uri": "https://localhost:8080/",
          "height": 729
        },
        "outputId": "50e6862c-3331-4a8c-808a-66b73f83edc5"
      },
      "execution_count": null,
      "outputs": [
        {
          "output_type": "display_data",
          "data": {
            "text/plain": [
              "<Figure size 1080x720 with 6 Axes>"
            ],
            "image/png": "[encoded data removed]"
          },
          "metadata": {
            "needs_background": "light"
          }
        }
      ]
    },
    {
      "cell_type": "markdown",
      "source": [
        "- Quantile transformation digunakan pada data `Customer_care_calls_tr`, `Customer_rating`, `Cost_of_the_Product_tr`, `Prior_purchases_tr`, `Discount_offered_tr`, `Weight_in_gms_tr`"
      ],
      "metadata": {
        "id": "lZKhMelQULdP"
      }
    },
    {
      "cell_type": "markdown",
      "source": [
        "### Log Transformation (Opsi 2)"
      ],
      "metadata": {
        "id": "IY3qP82C55JF"
      }
    },
    {
      "cell_type": "code",
      "source": [
        "#Log Transformasi digunakan ke feature yang memiliki skew positif yang besar\n",
        "df['Discount_offered_log'] = np.log(df['Discount_offered'])\n",
        "df['Prior_purchases_log'] = np.log(df['Prior_purchases'])"
      ],
      "metadata": {
        "id": "J3SJQZK65xC9"
      },
      "execution_count": null,
      "outputs": []
    },
    {
      "cell_type": "code",
      "source": [
        "from sklearn.preprocessing import MinMaxScaler, StandardScaler\n",
        "df['cust_call_std'] = StandardScaler().fit_transform(df['Customer_care_calls'].values.reshape(len(df), 1))\n",
        "df['cust_rating_std'] = StandardScaler().fit_transform(df['Customer_rating'].values.reshape(len(df), 1))\n",
        "df['prior_purchase_std'] = StandardScaler().fit_transform(df['Prior_purchases_log'].values.reshape(len(df), 1))\n",
        "df['product_cost_norm'] = MinMaxScaler().fit_transform(df['Cost_of_the_Product'].values.reshape(len(df), 1))\n",
        "df['discount_norm'] = MinMaxScaler().fit_transform(df['Discount_offered_log'].values.reshape(len(df), 1))\n",
        "df['weight_norm'] = MinMaxScaler().fit_transform(df['Weight_in_gms'].values.reshape(len(df), 1))"
      ],
      "metadata": {
        "id": "py1giQss5xIY"
      },
      "execution_count": null,
      "outputs": []
    },
    {
      "cell_type": "code",
      "source": [
        "nums_trans2 = ['cust_call_std', 'cust_rating_std', 'product_cost_norm', 'prior_purchase_std', 'discount_norm', 'weight_norm']\n",
        "features2 = nums_trans2\n",
        "plt.figure(figsize=(16, 8))\n",
        "for i in range(0, len(features2)):\n",
        "    plt.subplot(2, 3, i+1)\n",
        "    sns.kdeplot(x=df[features2[i]], color='red')\n",
        "    plt.xlabel(features2[i])\n",
        "    plt.tight_layout()"
      ],
      "metadata": {
        "id": "upw_w0cf7fXr",
        "colab": {
          "base_uri": "https://localhost:8080/",
          "height": 561
        },
        "outputId": "2759d7fe-d93b-4460-c782-10e8a74c0c74"
      },
      "execution_count": null,
      "outputs": [
        {
          "output_type": "display_data",
          "data": {
            "text/plain": [
              "<Figure size 1152x576 with 6 Axes>"
            ],
            "image/png": "[encoded data removed]"
          },
          "metadata": {
            "needs_background": "light"
          }
        }
      ]
    },
    {
      "cell_type": "code",
      "source": [
        "features2 = nums_trans2\n",
        "plt.figure(figsize=(15, 10))\n",
        "for i in range(0, len(features2)):\n",
        "    plt.subplot(1, len(features2), i+1)\n",
        "    sns.boxplot(y=df[features2[i]], color='red', orient='v')\n",
        "    plt.tight_layout()"
      ],
      "metadata": {
        "id": "6lQTWa8C8-ur",
        "colab": {
          "base_uri": "https://localhost:8080/",
          "height": 729
        },
        "outputId": "fff69e72-0fa1-47b5-a165-67d6ca731776"
      },
      "execution_count": null,
      "outputs": [
        {
          "output_type": "display_data",
          "data": {
            "text/plain": [
              "<Figure size 1080x720 with 6 Axes>"
            ],
            "image/png": "[encoded data removed]"
          },
          "metadata": {
            "needs_background": "light"
          }
        }
      ]
    },
    {
      "cell_type": "code",
      "source": [
        "df_quantile = df.drop(columns=['Customer_care_calls','Customer_rating','Cost_of_the_Product','Discount_offered_log','Weight_in_gms','Prior_purchases_log','ID','Prior_purchases','Discount_offered','product_cost_norm','discount_norm','cust_call_std','weight_norm','prior_purchase_std','cust_rating_std'])\n",
        "df_quantile.describe()"
      ],
      "metadata": {
        "id": "aX4eIQatHhdt",
        "colab": {
          "base_uri": "https://localhost:8080/",
          "height": 300
        },
        "outputId": "cb56c9bd-6eb0-4ccc-80c0-de8a3f84639e"
      },
      "execution_count": null,
      "outputs": [
        {
          "output_type": "execute_result",
          "data": {
            "text/plain": [
              "       Reached.on.Time_Y.N  Cost_of_the_Product_tr  Discount_offered_tr  \\\n",
              "count         10999.000000            10999.000000         10999.000000   \n",
              "mean              0.596691                0.002431            -0.240507   \n",
              "std               0.490584                1.016237             1.655656   \n",
              "min               0.000000               -5.199338            -5.199338   \n",
              "25%               0.000000               -0.684763            -0.622621   \n",
              "50%               1.000000               -0.003764            -0.017565   \n",
              "75%               1.000000                0.678433             0.583496   \n",
              "max               1.000000                5.199338             5.199338   \n",
              "\n",
              "       Customer_care_calls_tr  Weight_in_gms_tr  Prior_purchases_tr  \n",
              "count            10999.000000      10999.000000        10999.000000  \n",
              "mean                -0.116761         -0.000377           -0.876876  \n",
              "std                  1.639811          1.003136            2.540321  \n",
              "min                 -5.199338         -5.199338           -5.199338  \n",
              "25%                 -0.826698         -0.674431           -0.211070  \n",
              "50%                  0.031369          0.000000           -0.211070  \n",
              "75%                  0.771450          0.674837            0.506348  \n",
              "max                  5.199338          5.199338            5.199338  "
            ],
            "text/html": [
              "\n",
              "  <div id=\"df-3962b463-4453-4bdb-94b6-18820b245d14\">\n",
              "    <div class=\"colab-df-container\">\n",
              "      <div>\n",
              "<style scoped>\n",
              "    .dataframe tbody tr th:only-of-type {\n",
              "        vertical-align: middle;\n",
              "    }\n",
              "\n",
              "    .dataframe tbody tr th {\n",
              "        vertical-align: top;\n",
              "    }\n",
              "\n",
              "    .dataframe thead th {\n",
              "        text-align: right;\n",
              "    }\n",
              "</style>\n",
              "<table border=\"1\" class=\"dataframe\">\n",
              "  <thead>\n",
              "    <tr style=\"text-align: right;\">\n",
              "      <th></th>\n",
              "      <th>Reached.on.Time_Y.N</th>\n",
              "      <th>Cost_of_the_Product_tr</th>\n",
              "      <th>Discount_offered_tr</th>\n",
              "      <th>Customer_care_calls_tr</th>\n",
              "      <th>Weight_in_gms_tr</th>\n",
              "      <th>Prior_purchases_tr</th>\n",
              "    </tr>\n",
              "  </thead>\n",
              "  <tbody>\n",
              "    <tr>\n",
              "      <th>count</th>\n",
              "      <td>10999.000000</td>\n",
              "      <td>10999.000000</td>\n",
              "      <td>10999.000000</td>\n",
              "      <td>10999.000000</td>\n",
              "      <td>10999.000000</td>\n",
              "      <td>10999.000000</td>\n",
              "    </tr>\n",
              "    <tr>\n",
              "      <th>mean</th>\n",
              "      <td>0.596691</td>\n",
              "      <td>0.002431</td>\n",
              "      <td>-0.240507</td>\n",
              "      <td>-0.116761</td>\n",
              "      <td>-0.000377</td>\n",
              "      <td>-0.876876</td>\n",
              "    </tr>\n",
              "    <tr>\n",
              "      <th>std</th>\n",
              "      <td>0.490584</td>\n",
              "      <td>1.016237</td>\n",
              "      <td>1.655656</td>\n",
              "      <td>1.639811</td>\n",
              "      <td>1.003136</td>\n",
              "      <td>2.540321</td>\n",
              "    </tr>\n",
              "    <tr>\n",
              "      <th>min</th>\n",
              "      <td>0.000000</td>\n",
              "      <td>-5.199338</td>\n",
              "      <td>-5.199338</td>\n",
              "      <td>-5.199338</td>\n",
              "      <td>-5.199338</td>\n",
              "      <td>-5.199338</td>\n",
              "    </tr>\n",
              "    <tr>\n",
              "      <th>25%</th>\n",
              "      <td>0.000000</td>\n",
              "      <td>-0.684763</td>\n",
              "      <td>-0.622621</td>\n",
              "      <td>-0.826698</td>\n",
              "      <td>-0.674431</td>\n",
              "      <td>-0.211070</td>\n",
              "    </tr>\n",
              "    <tr>\n",
              "      <th>50%</th>\n",
              "      <td>1.000000</td>\n",
              "      <td>-0.003764</td>\n",
              "      <td>-0.017565</td>\n",
              "      <td>0.031369</td>\n",
              "      <td>0.000000</td>\n",
              "      <td>-0.211070</td>\n",
              "    </tr>\n",
              "    <tr>\n",
              "      <th>75%</th>\n",
              "      <td>1.000000</td>\n",
              "      <td>0.678433</td>\n",
              "      <td>0.583496</td>\n",
              "      <td>0.771450</td>\n",
              "      <td>0.674837</td>\n",
              "      <td>0.506348</td>\n",
              "    </tr>\n",
              "    <tr>\n",
              "      <th>max</th>\n",
              "      <td>1.000000</td>\n",
              "      <td>5.199338</td>\n",
              "      <td>5.199338</td>\n",
              "      <td>5.199338</td>\n",
              "      <td>5.199338</td>\n",
              "      <td>5.199338</td>\n",
              "    </tr>\n",
              "  </tbody>\n",
              "</table>\n",
              "</div>\n",
              "      <button class=\"colab-df-convert\" onclick=\"convertToInteractive('df-3962b463-4453-4bdb-94b6-18820b245d14')\"\n",
              "              title=\"Convert this dataframe to an interactive table.\"\n",
              "              style=\"display:none;\">\n",
              "        \n",
              "  <svg xmlns=\"http://www.w3.org/2000/svg\" height=\"24px\"viewBox=\"0 0 24 24\"\n",
              "       width=\"24px\">\n",
              "    <path d=\"M0 0h24v24H0V0z\" fill=\"none\"/>\n",
              "    <path d=\"M18.56 5.44l.94 2.06.94-2.06 2.06-.94-2.06-.94-.94-2.06-.94 2.06-2.06.94zm-11 1L8.5 8.5l.94-2.06 2.06-.94-2.06-.94L8.5 2.5l-.94 2.06-2.06.94zm10 10l.94 2.06.94-2.06 2.06-.94-2.06-.94-.94-2.06-.94 2.06-2.06.94z\"/><path d=\"M17.41 7.96l-1.37-1.37c-.4-.4-.92-.59-1.43-.59-.52 0-1.04.2-1.43.59L10.3 9.45l-7.72 7.72c-.78.78-.78 2.05 0 2.83L4 21.41c.39.39.9.59 1.41.59.51 0 1.02-.2 1.41-.59l7.78-7.78 2.81-2.81c.8-.78.8-2.07 0-2.86zM5.41 20L4 18.59l7.72-7.72 1.47 1.35L5.41 20z\"/>\n",
              "  </svg>\n",
              "      </button>\n",
              "      \n",
              "  <style>\n",
              "    .colab-df-container {\n",
              "      display:flex;\n",
              "      flex-wrap:wrap;\n",
              "      gap: 12px;\n",
              "    }\n",
              "\n",
              "    .colab-df-convert {\n",
              "      background-color: #E8F0FE;\n",
              "      border: none;\n",
              "      border-radius: 50%;\n",
              "      cursor: pointer;\n",
              "      display: none;\n",
              "      fill: #1967D2;\n",
              "      height: 32px;\n",
              "      padding: 0 0 0 0;\n",
              "      width: 32px;\n",
              "    }\n",
              "\n",
              "    .colab-df-convert:hover {\n",
              "      background-color: #E2EBFA;\n",
              "      box-shadow: 0px 1px 2px rgba(60, 64, 67, 0.3), 0px 1px 3px 1px rgba(60, 64, 67, 0.15);\n",
              "      fill: #174EA6;\n",
              "    }\n",
              "\n",
              "    [theme=dark] .colab-df-convert {\n",
              "      background-color: #3B4455;\n",
              "      fill: #D2E3FC;\n",
              "    }\n",
              "\n",
              "    [theme=dark] .colab-df-convert:hover {\n",
              "      background-color: #434B5C;\n",
              "      box-shadow: 0px 1px 3px 1px rgba(0, 0, 0, 0.15);\n",
              "      filter: drop-shadow(0px 1px 2px rgba(0, 0, 0, 0.3));\n",
              "      fill: #FFFFFF;\n",
              "    }\n",
              "  </style>\n",
              "\n",
              "      <script>\n",
              "        const buttonEl =\n",
              "          document.querySelector('#df-3962b463-4453-4bdb-94b6-18820b245d14 button.colab-df-convert');\n",
              "        buttonEl.style.display =\n",
              "          google.colab.kernel.accessAllowed ? 'block' : 'none';\n",
              "\n",
              "        async function convertToInteractive(key) {\n",
              "          const element = document.querySelector('#df-3962b463-4453-4bdb-94b6-18820b245d14');\n",
              "          const dataTable =\n",
              "            await google.colab.kernel.invokeFunction('convertToInteractive',\n",
              "                                                     [key], {});\n",
              "          if (!dataTable) return;\n",
              "\n",
              "          const docLinkHtml = 'Like what you see? Visit the ' +\n",
              "            '<a target=\"_blank\" href=https://colab.research.google.com/notebooks/data_table.ipynb>data table notebook</a>'\n",
              "            + ' to learn more about interactive tables.';\n",
              "          element.innerHTML = '';\n",
              "          dataTable['output_type'] = 'display_data';\n",
              "          await google.colab.output.renderOutput(dataTable, element);\n",
              "          const docLink = document.createElement('div');\n",
              "          docLink.innerHTML = docLinkHtml;\n",
              "          element.appendChild(docLink);\n",
              "        }\n",
              "      </script>\n",
              "    </div>\n",
              "  </div>\n",
              "  "
            ]
          },
          "metadata": {},
          "execution_count": 42
        }
      ]
    },
    {
      "cell_type": "code",
      "source": [
        "df_log = df.drop(columns=['Customer_care_calls','Customer_rating','Cost_of_the_Product','Discount_offered_log','Weight_in_gms','Prior_purchases_log','ID','Prior_purchases','Discount_offered','Cost_of_the_Product_tr','Discount_offered_tr','Customer_care_calls_tr','Weight_in_gms_tr','Prior_purchases_tr'])\n",
        "df_log.describe()"
      ],
      "metadata": {
        "id": "h9SyHX9_GkGX",
        "colab": {
          "base_uri": "https://localhost:8080/",
          "height": 300
        },
        "outputId": "406881ce-c57b-4668-e269-ffb8a138bd44"
      },
      "execution_count": null,
      "outputs": [
        {
          "output_type": "execute_result",
          "data": {
            "text/plain": [
              "       Reached.on.Time_Y.N  cust_call_std  cust_rating_std  \\\n",
              "count         10999.000000   1.099900e+04     1.099900e+04   \n",
              "mean              0.596691   1.128796e-15     4.118293e-17   \n",
              "std               0.490584   1.000045e+00     1.000045e+00   \n",
              "min               0.000000  -1.799887e+00    -1.408199e+00   \n",
              "25%               0.000000  -9.237994e-01    -7.007551e-01   \n",
              "50%               1.000000  -4.771132e-02     6.689172e-03   \n",
              "75%               1.000000   8.283768e-01     7.141334e-01   \n",
              "max               1.000000   2.580553e+00     1.421578e+00   \n",
              "\n",
              "       prior_purchase_std  product_cost_norm  discount_norm   weight_norm  \n",
              "count        1.099900e+04       10999.000000   10999.000000  10999.000000  \n",
              "mean        -4.477089e-15           0.533630       0.478734      0.384663  \n",
              "std          1.000045e+00           0.224595       0.259605      0.238916  \n",
              "min         -1.323289e+00           0.000000       0.000000      0.000000  \n",
              "25%         -2.555788e-01           0.341121       0.332095      0.122498  \n",
              "50%         -2.555788e-01           0.551402       0.466155      0.459898  \n",
              "75%          5.019737e-01           0.724299       0.551598      0.591527  \n",
              "max          2.914840e+00           1.000000       1.000000      1.000000  "
            ],
            "text/html": [
              "\n",
              "  <div id=\"df-ed6414af-a824-42ce-a096-af29132241fb\">\n",
              "    <div class=\"colab-df-container\">\n",
              "      <div>\n",
              "<style scoped>\n",
              "    .dataframe tbody tr th:only-of-type {\n",
              "        vertical-align: middle;\n",
              "    }\n",
              "\n",
              "    .dataframe tbody tr th {\n",
              "        vertical-align: top;\n",
              "    }\n",
              "\n",
              "    .dataframe thead th {\n",
              "        text-align: right;\n",
              "    }\n",
              "</style>\n",
              "<table border=\"1\" class=\"dataframe\">\n",
              "  <thead>\n",
              "    <tr style=\"text-align: right;\">\n",
              "      <th></th>\n",
              "      <th>Reached.on.Time_Y.N</th>\n",
              "      <th>cust_call_std</th>\n",
              "      <th>cust_rating_std</th>\n",
              "      <th>prior_purchase_std</th>\n",
              "      <th>product_cost_norm</th>\n",
              "      <th>discount_norm</th>\n",
              "      <th>weight_norm</th>\n",
              "    </tr>\n",
              "  </thead>\n",
              "  <tbody>\n",
              "    <tr>\n",
              "      <th>count</th>\n",
              "      <td>10999.000000</td>\n",
              "      <td>1.099900e+04</td>\n",
              "      <td>1.099900e+04</td>\n",
              "      <td>1.099900e+04</td>\n",
              "      <td>10999.000000</td>\n",
              "      <td>10999.000000</td>\n",
              "      <td>10999.000000</td>\n",
              "    </tr>\n",
              "    <tr>\n",
              "      <th>mean</th>\n",
              "      <td>0.596691</td>\n",
              "      <td>1.128796e-15</td>\n",
              "      <td>4.118293e-17</td>\n",
              "      <td>-4.477089e-15</td>\n",
              "      <td>0.533630</td>\n",
              "      <td>0.478734</td>\n",
              "      <td>0.384663</td>\n",
              "    </tr>\n",
              "    <tr>\n",
              "      <th>std</th>\n",
              "      <td>0.490584</td>\n",
              "      <td>1.000045e+00</td>\n",
              "      <td>1.000045e+00</td>\n",
              "      <td>1.000045e+00</td>\n",
              "      <td>0.224595</td>\n",
              "      <td>0.259605</td>\n",
              "      <td>0.238916</td>\n",
              "    </tr>\n",
              "    <tr>\n",
              "      <th>min</th>\n",
              "      <td>0.000000</td>\n",
              "      <td>-1.799887e+00</td>\n",
              "      <td>-1.408199e+00</td>\n",
              "      <td>-1.323289e+00</td>\n",
              "      <td>0.000000</td>\n",
              "      <td>0.000000</td>\n",
              "      <td>0.000000</td>\n",
              "    </tr>\n",
              "    <tr>\n",
              "      <th>25%</th>\n",
              "      <td>0.000000</td>\n",
              "      <td>-9.237994e-01</td>\n",
              "      <td>-7.007551e-01</td>\n",
              "      <td>-2.555788e-01</td>\n",
              "      <td>0.341121</td>\n",
              "      <td>0.332095</td>\n",
              "      <td>0.122498</td>\n",
              "    </tr>\n",
              "    <tr>\n",
              "      <th>50%</th>\n",
              "      <td>1.000000</td>\n",
              "      <td>-4.771132e-02</td>\n",
              "      <td>6.689172e-03</td>\n",
              "      <td>-2.555788e-01</td>\n",
              "      <td>0.551402</td>\n",
              "      <td>0.466155</td>\n",
              "      <td>0.459898</td>\n",
              "    </tr>\n",
              "    <tr>\n",
              "      <th>75%</th>\n",
              "      <td>1.000000</td>\n",
              "      <td>8.283768e-01</td>\n",
              "      <td>7.141334e-01</td>\n",
              "      <td>5.019737e-01</td>\n",
              "      <td>0.724299</td>\n",
              "      <td>0.551598</td>\n",
              "      <td>0.591527</td>\n",
              "    </tr>\n",
              "    <tr>\n",
              "      <th>max</th>\n",
              "      <td>1.000000</td>\n",
              "      <td>2.580553e+00</td>\n",
              "      <td>1.421578e+00</td>\n",
              "      <td>2.914840e+00</td>\n",
              "      <td>1.000000</td>\n",
              "      <td>1.000000</td>\n",
              "      <td>1.000000</td>\n",
              "    </tr>\n",
              "  </tbody>\n",
              "</table>\n",
              "</div>\n",
              "      <button class=\"colab-df-convert\" onclick=\"convertToInteractive('df-ed6414af-a824-42ce-a096-af29132241fb')\"\n",
              "              title=\"Convert this dataframe to an interactive table.\"\n",
              "              style=\"display:none;\">\n",
              "        \n",
              "  <svg xmlns=\"http://www.w3.org/2000/svg\" height=\"24px\"viewBox=\"0 0 24 24\"\n",
              "       width=\"24px\">\n",
              "    <path d=\"M0 0h24v24H0V0z\" fill=\"none\"/>\n",
              "    <path d=\"M18.56 5.44l.94 2.06.94-2.06 2.06-.94-2.06-.94-.94-2.06-.94 2.06-2.06.94zm-11 1L8.5 8.5l.94-2.06 2.06-.94-2.06-.94L8.5 2.5l-.94 2.06-2.06.94zm10 10l.94 2.06.94-2.06 2.06-.94-2.06-.94-.94-2.06-.94 2.06-2.06.94z\"/><path d=\"M17.41 7.96l-1.37-1.37c-.4-.4-.92-.59-1.43-.59-.52 0-1.04.2-1.43.59L10.3 9.45l-7.72 7.72c-.78.78-.78 2.05 0 2.83L4 21.41c.39.39.9.59 1.41.59.51 0 1.02-.2 1.41-.59l7.78-7.78 2.81-2.81c.8-.78.8-2.07 0-2.86zM5.41 20L4 18.59l7.72-7.72 1.47 1.35L5.41 20z\"/>\n",
              "  </svg>\n",
              "      </button>\n",
              "      \n",
              "  <style>\n",
              "    .colab-df-container {\n",
              "      display:flex;\n",
              "      flex-wrap:wrap;\n",
              "      gap: 12px;\n",
              "    }\n",
              "\n",
              "    .colab-df-convert {\n",
              "      background-color: #E8F0FE;\n",
              "      border: none;\n",
              "      border-radius: 50%;\n",
              "      cursor: pointer;\n",
              "      display: none;\n",
              "      fill: #1967D2;\n",
              "      height: 32px;\n",
              "      padding: 0 0 0 0;\n",
              "      width: 32px;\n",
              "    }\n",
              "\n",
              "    .colab-df-convert:hover {\n",
              "      background-color: #E2EBFA;\n",
              "      box-shadow: 0px 1px 2px rgba(60, 64, 67, 0.3), 0px 1px 3px 1px rgba(60, 64, 67, 0.15);\n",
              "      fill: #174EA6;\n",
              "    }\n",
              "\n",
              "    [theme=dark] .colab-df-convert {\n",
              "      background-color: #3B4455;\n",
              "      fill: #D2E3FC;\n",
              "    }\n",
              "\n",
              "    [theme=dark] .colab-df-convert:hover {\n",
              "      background-color: #434B5C;\n",
              "      box-shadow: 0px 1px 3px 1px rgba(0, 0, 0, 0.15);\n",
              "      filter: drop-shadow(0px 1px 2px rgba(0, 0, 0, 0.3));\n",
              "      fill: #FFFFFF;\n",
              "    }\n",
              "  </style>\n",
              "\n",
              "      <script>\n",
              "        const buttonEl =\n",
              "          document.querySelector('#df-ed6414af-a824-42ce-a096-af29132241fb button.colab-df-convert');\n",
              "        buttonEl.style.display =\n",
              "          google.colab.kernel.accessAllowed ? 'block' : 'none';\n",
              "\n",
              "        async function convertToInteractive(key) {\n",
              "          const element = document.querySelector('#df-ed6414af-a824-42ce-a096-af29132241fb');\n",
              "          const dataTable =\n",
              "            await google.colab.kernel.invokeFunction('convertToInteractive',\n",
              "                                                     [key], {});\n",
              "          if (!dataTable) return;\n",
              "\n",
              "          const docLinkHtml = 'Like what you see? Visit the ' +\n",
              "            '<a target=\"_blank\" href=https://colab.research.google.com/notebooks/data_table.ipynb>data table notebook</a>'\n",
              "            + ' to learn more about interactive tables.';\n",
              "          element.innerHTML = '';\n",
              "          dataTable['output_type'] = 'display_data';\n",
              "          await google.colab.output.renderOutput(dataTable, element);\n",
              "          const docLink = document.createElement('div');\n",
              "          docLink.innerHTML = docLinkHtml;\n",
              "          element.appendChild(docLink);\n",
              "        }\n",
              "      </script>\n",
              "    </div>\n",
              "  </div>\n",
              "  "
            ]
          },
          "metadata": {},
          "execution_count": 43
        }
      ]
    },
    {
      "cell_type": "markdown",
      "source": [
        "* Log Transformasi digunakan ke feature `Discount_offered` dan `Prior_purchases` karena 2 feature tersebut memiliki skew positif yang besar\n",
        "* Standarisasi digunakan ke feature `Customer_care_calls`,`Customer_rating` dan `Prior_purchaces_log`\n",
        "* Normalisasi digunakan ke feature `Cost_of_the_Product`, `Discount_offered_log` dan `Weight_in_gms`"
      ],
      "metadata": {
        "id": "yJ73szX4DVq5"
      }
    },
    {
      "cell_type": "markdown",
      "source": [
        "## (D) Handling Outliers"
      ],
      "metadata": {
        "id": "EN0XahjVQ5WH"
      }
    },
    {
      "cell_type": "code",
      "source": [
        "print(f' jumlah baris sebelum memfilter outlier: {len(df)}')\n",
        "\n",
        "filtered_entries = np.array([True] * len(df)) # coba tambah line ini\n",
        "\n",
        "Q1 = df['Discount_offered_tr'].quantile(0.25)\n",
        "Q3 = df['Discount_offered_tr'].quantile(0.75)\n",
        "IQR = Q3 - Q1\n",
        "low_limit = Q1 - (1.5 * IQR)\n",
        "high_limit = Q3 + (1.5 * IQR)\n",
        "filtered_entries = ((df['Discount_offered_tr'] >= low_limit) & (df['Discount_offered_tr'] <= high_limit))\n",
        "df = df[filtered_entries]\n",
        "\n",
        "print(f' jumlah baris sesudah memfilter outlier: {len(df)}')"
      ],
      "metadata": {
        "id": "yXUJQX3bQKsy",
        "colab": {
          "base_uri": "https://localhost:8080/"
        },
        "outputId": "d886b435-384a-436a-9917-4d37ae0ac9e3"
      },
      "execution_count": null,
      "outputs": [
        {
          "output_type": "stream",
          "name": "stdout",
          "text": [
            " jumlah baris sebelum memfilter outlier: 10999\n",
            " jumlah baris sesudah memfilter outlier: 10096\n"
          ]
        }
      ]
    },
    {
      "cell_type": "markdown",
      "source": [
        "- Kami memutuskan untuk membuat outlier dari kolom `Discount_offered` saja karena memang nilai outliernya cukup banyak. Terdapat 903 baris yang dibuang setelah dilakukan filter IQR."
      ],
      "metadata": {
        "id": "ors39ynpUK5L"
      }
    },
    {
      "cell_type": "markdown",
      "source": [
        "## (E) Feature Encoding"
      ],
      "metadata": {
        "id": "jAfeYL9jRX28"
      }
    },
    {
      "cell_type": "code",
      "source": [
        "# label encoding mapping cats yang punya 2 distinct value / ordinal\n",
        "# Product_importance dan Gender\n",
        "mapping_gender = {\n",
        "    'F' : 0,\n",
        "    'M' : 1\n",
        "}\n",
        "\n",
        "mapping_product_importance = {\n",
        "    'low' : 0,\n",
        "    'medium' : 1,\n",
        "    'high' : 2 # dapat dihilangkan karena kalau low = 0, medium = 0 sudah otomatis sama dengan high\n",
        "}\n",
        "\n",
        "df['Gender'] = df['Gender'].map(mapping_gender)\n",
        "df['Product_importance'] = df['Product_importance'].map(mapping_product_importance)"
      ],
      "metadata": {
        "id": "VwCafTkdeQfJ"
      },
      "execution_count": null,
      "outputs": []
    },
    {
      "cell_type": "code",
      "source": [
        "# Value Counting\n",
        "for col in cats:\n",
        "    print(f'''Value count kolom {col}:''')\n",
        "    print(df[col].value_counts())\n",
        "    print('---'*10, '\\n')"
      ],
      "metadata": {
        "colab": {
          "base_uri": "https://localhost:8080/"
        },
        "id": "z_Tr3tCuq5ct",
        "outputId": "6ed37d4f-a204-4d61-c2c4-bd93e7634b26"
      },
      "execution_count": null,
      "outputs": [
        {
          "output_type": "stream",
          "name": "stdout",
          "text": [
            "Value count kolom Warehouse_block:\n",
            "F    3379\n",
            "B    1694\n",
            "A    1681\n",
            "D    1672\n",
            "C    1670\n",
            "Name: Warehouse_block, dtype: int64\n",
            "------------------------------ \n",
            "\n",
            "Value count kolom Mode_of_Shipment:\n",
            "Ship      6839\n",
            "Flight    1648\n",
            "Road      1609\n",
            "Name: Mode_of_Shipment, dtype: int64\n",
            "------------------------------ \n",
            "\n",
            "Value count kolom Product_importance:\n",
            "0    4881\n",
            "1    4358\n",
            "2     857\n",
            "Name: Product_importance, dtype: int64\n",
            "------------------------------ \n",
            "\n",
            "Value count kolom Gender:\n",
            "0    5092\n",
            "1    5004\n",
            "Name: Gender, dtype: int64\n",
            "------------------------------ \n",
            "\n"
          ]
        }
      ]
    },
    {
      "cell_type": "code",
      "source": [
        "print(f'Dimensi data sebelum encoding adalah {df.shape[0]} baris dan {df.shape[1]} kolom')\n",
        "\n",
        "# One hot encoder warehouse block dan mode of shipment\n",
        "# WARNING: run code ini sekali saja\n",
        "for cats in ['Warehouse_block', 'Mode_of_Shipment']:\n",
        "    # onehots, pakai drop_first=True untuk dimension reduction\n",
        "    onehots = pd.get_dummies(df[cats], prefix=cats, drop_first=True) \n",
        "    # gabung kolom df dan onehots\n",
        "    df = pd.concat([df, onehots], axis=1) \n",
        "    # drop kolom awal\n",
        "    df.drop(columns=cats, axis=1, inplace=True) \n",
        "\n",
        "print(f'Dimensi data setelah encoding adalah {df.shape[0]} baris dan {df.shape[1]} kolom')"
      ],
      "metadata": {
        "id": "kxlmN775eQY4",
        "colab": {
          "base_uri": "https://localhost:8080/"
        },
        "outputId": "429f9de5-3bd6-48c6-8925-e92f58405e99"
      },
      "execution_count": null,
      "outputs": [
        {
          "output_type": "stream",
          "name": "stdout",
          "text": [
            "Dimensi data sebelum encoding adalah 10096 baris dan 25 kolom\n",
            "Dimensi data setelah encoding adalah 10096 baris dan 29 kolom\n"
          ]
        }
      ]
    },
    {
      "cell_type": "code",
      "source": [
        "df.info()"
      ],
      "metadata": {
        "colab": {
          "base_uri": "https://localhost:8080/"
        },
        "id": "XTGvOrmYAA_U",
        "outputId": "8b97b2ac-114a-40c9-d2b3-331ab96074fd"
      },
      "execution_count": null,
      "outputs": [
        {
          "output_type": "stream",
          "name": "stdout",
          "text": [
            "<class 'pandas.core.frame.DataFrame'>\n",
            "Int64Index: 10096 entries, 0 to 10998\n",
            "Data columns (total 29 columns):\n",
            " #   Column                  Non-Null Count  Dtype  \n",
            "---  ------                  --------------  -----  \n",
            " 0   ID                      10096 non-null  int64  \n",
            " 1   Customer_care_calls     10096 non-null  int64  \n",
            " 2   Customer_rating         10096 non-null  int64  \n",
            " 3   Cost_of_the_Product     10096 non-null  int64  \n",
            " 4   Prior_purchases         10096 non-null  int64  \n",
            " 5   Product_importance      10096 non-null  int64  \n",
            " 6   Gender                  10096 non-null  int64  \n",
            " 7   Discount_offered        10096 non-null  int64  \n",
            " 8   Weight_in_gms           10096 non-null  int64  \n",
            " 9   Reached.on.Time_Y.N     10096 non-null  int64  \n",
            " 10  Cost_of_the_Product_tr  10096 non-null  float64\n",
            " 11  Discount_offered_tr     10096 non-null  float64\n",
            " 12  Customer_care_calls_tr  10096 non-null  float64\n",
            " 13  Weight_in_gms_tr        10096 non-null  float64\n",
            " 14  Prior_purchases_tr      10096 non-null  float64\n",
            " 15  Discount_offered_log    10096 non-null  float64\n",
            " 16  Prior_purchases_log     10096 non-null  float64\n",
            " 17  cust_call_std           10096 non-null  float64\n",
            " 18  cust_rating_std         10096 non-null  float64\n",
            " 19  prior_purchase_std      10096 non-null  float64\n",
            " 20  product_cost_norm       10096 non-null  float64\n",
            " 21  discount_norm           10096 non-null  float64\n",
            " 22  weight_norm             10096 non-null  float64\n",
            " 23  Warehouse_block_B       10096 non-null  uint8  \n",
            " 24  Warehouse_block_C       10096 non-null  uint8  \n",
            " 25  Warehouse_block_D       10096 non-null  uint8  \n",
            " 26  Warehouse_block_F       10096 non-null  uint8  \n",
            " 27  Mode_of_Shipment_Road   10096 non-null  uint8  \n",
            " 28  Mode_of_Shipment_Ship   10096 non-null  uint8  \n",
            "dtypes: float64(13), int64(10), uint8(6)\n",
            "memory usage: 1.9 MB\n"
          ]
        }
      ]
    },
    {
      "cell_type": "code",
      "source": [
        "df.sample(5)"
      ],
      "metadata": {
        "colab": {
          "base_uri": "https://localhost:8080/",
          "height": 299
        },
        "id": "z-KMx3MFAOpT",
        "outputId": "dcc014fc-1b0a-4d51-fa25-529331d37c97"
      },
      "execution_count": null,
      "outputs": [
        {
          "output_type": "execute_result",
          "data": {
            "text/plain": [
              "        ID  Customer_care_calls  Customer_rating  Cost_of_the_Product  \\\n",
              "9833  9834                    4                3                  133   \n",
              "2684  2685                    3                1                  185   \n",
              "7816  7817                    4                3                  181   \n",
              "9338  9339                    5                1                  151   \n",
              "7570  7571                    3                3                  157   \n",
              "\n",
              "      Prior_purchases  Product_importance  Gender  Discount_offered  \\\n",
              "9833                2                   0       0                10   \n",
              "2684                4                   0       0                35   \n",
              "7816                3                   0       1                 4   \n",
              "9338                3                   1       1                 2   \n",
              "7570                4                   0       0                 2   \n",
              "\n",
              "      Weight_in_gms  Reached.on.Time_Y.N  ...  prior_purchase_std  \\\n",
              "9833           4195                    0  ...           -1.323289   \n",
              "2684           3648                    1  ...            0.501974   \n",
              "7816           4399                    1  ...           -0.255579   \n",
              "9338           4172                    1  ...           -0.255579   \n",
              "7570           5715                    1  ...            0.501974   \n",
              "\n",
              "      product_cost_norm  discount_norm  weight_norm  Warehouse_block_B  \\\n",
              "9833           0.172897       0.551598     0.466618                  0   \n",
              "2684           0.415888       0.851705     0.386706                  0   \n",
              "7816           0.397196       0.332095     0.496421                  0   \n",
              "9338           0.257009       0.166048     0.463258                  0   \n",
              "7570           0.285047       0.166048     0.688678                  0   \n",
              "\n",
              "      Warehouse_block_C  Warehouse_block_D  Warehouse_block_F  \\\n",
              "9833                  0                  0                  1   \n",
              "2684                  0                  0                  0   \n",
              "7816                  1                  0                  0   \n",
              "9338                  0                  0                  0   \n",
              "7570                  1                  0                  0   \n",
              "\n",
              "      Mode_of_Shipment_Road  Mode_of_Shipment_Ship  \n",
              "9833                      0                      1  \n",
              "2684                      0                      1  \n",
              "7816                      0                      0  \n",
              "9338                      0                      1  \n",
              "7570                      0                      1  \n",
              "\n",
              "[5 rows x 29 columns]"
            ],
            "text/html": [
              "\n",
              "  <div id=\"df-5863938d-0b13-4f11-90b8-3a9ea102e52d\">\n",
              "    <div class=\"colab-df-container\">\n",
              "      <div>\n",
              "<style scoped>\n",
              "    .dataframe tbody tr th:only-of-type {\n",
              "        vertical-align: middle;\n",
              "    }\n",
              "\n",
              "    .dataframe tbody tr th {\n",
              "        vertical-align: top;\n",
              "    }\n",
              "\n",
              "    .dataframe thead th {\n",
              "        text-align: right;\n",
              "    }\n",
              "</style>\n",
              "<table border=\"1\" class=\"dataframe\">\n",
              "  <thead>\n",
              "    <tr style=\"text-align: right;\">\n",
              "      <th></th>\n",
              "      <th>ID</th>\n",
              "      <th>Customer_care_calls</th>\n",
              "      <th>Customer_rating</th>\n",
              "      <th>Cost_of_the_Product</th>\n",
              "      <th>Prior_purchases</th>\n",
              "      <th>Product_importance</th>\n",
              "      <th>Gender</th>\n",
              "      <th>Discount_offered</th>\n",
              "      <th>Weight_in_gms</th>\n",
              "      <th>Reached.on.Time_Y.N</th>\n",
              "      <th>...</th>\n",
              "      <th>prior_purchase_std</th>\n",
              "      <th>product_cost_norm</th>\n",
              "      <th>discount_norm</th>\n",
              "      <th>weight_norm</th>\n",
              "      <th>Warehouse_block_B</th>\n",
              "      <th>Warehouse_block_C</th>\n",
              "      <th>Warehouse_block_D</th>\n",
              "      <th>Warehouse_block_F</th>\n",
              "      <th>Mode_of_Shipment_Road</th>\n",
              "      <th>Mode_of_Shipment_Ship</th>\n",
              "    </tr>\n",
              "  </thead>\n",
              "  <tbody>\n",
              "    <tr>\n",
              "      <th>9833</th>\n",
              "      <td>9834</td>\n",
              "      <td>4</td>\n",
              "      <td>3</td>\n",
              "      <td>133</td>\n",
              "      <td>2</td>\n",
              "      <td>0</td>\n",
              "      <td>0</td>\n",
              "      <td>10</td>\n",
              "      <td>4195</td>\n",
              "      <td>0</td>\n",
              "      <td>...</td>\n",
              "      <td>-1.323289</td>\n",
              "      <td>0.172897</td>\n",
              "      <td>0.551598</td>\n",
              "      <td>0.466618</td>\n",
              "      <td>0</td>\n",
              "      <td>0</td>\n",
              "      <td>0</td>\n",
              "      <td>1</td>\n",
              "      <td>0</td>\n",
              "      <td>1</td>\n",
              "    </tr>\n",
              "    <tr>\n",
              "      <th>2684</th>\n",
              "      <td>2685</td>\n",
              "      <td>3</td>\n",
              "      <td>1</td>\n",
              "      <td>185</td>\n",
              "      <td>4</td>\n",
              "      <td>0</td>\n",
              "      <td>0</td>\n",
              "      <td>35</td>\n",
              "      <td>3648</td>\n",
              "      <td>1</td>\n",
              "      <td>...</td>\n",
              "      <td>0.501974</td>\n",
              "      <td>0.415888</td>\n",
              "      <td>0.851705</td>\n",
              "      <td>0.386706</td>\n",
              "      <td>0</td>\n",
              "      <td>0</td>\n",
              "      <td>0</td>\n",
              "      <td>0</td>\n",
              "      <td>0</td>\n",
              "      <td>1</td>\n",
              "    </tr>\n",
              "    <tr>\n",
              "      <th>7816</th>\n",
              "      <td>7817</td>\n",
              "      <td>4</td>\n",
              "      <td>3</td>\n",
              "      <td>181</td>\n",
              "      <td>3</td>\n",
              "      <td>0</td>\n",
              "      <td>1</td>\n",
              "      <td>4</td>\n",
              "      <td>4399</td>\n",
              "      <td>1</td>\n",
              "      <td>...</td>\n",
              "      <td>-0.255579</td>\n",
              "      <td>0.397196</td>\n",
              "      <td>0.332095</td>\n",
              "      <td>0.496421</td>\n",
              "      <td>0</td>\n",
              "      <td>1</td>\n",
              "      <td>0</td>\n",
              "      <td>0</td>\n",
              "      <td>0</td>\n",
              "      <td>0</td>\n",
              "    </tr>\n",
              "    <tr>\n",
              "      <th>9338</th>\n",
              "      <td>9339</td>\n",
              "      <td>5</td>\n",
              "      <td>1</td>\n",
              "      <td>151</td>\n",
              "      <td>3</td>\n",
              "      <td>1</td>\n",
              "      <td>1</td>\n",
              "      <td>2</td>\n",
              "      <td>4172</td>\n",
              "      <td>1</td>\n",
              "      <td>...</td>\n",
              "      <td>-0.255579</td>\n",
              "      <td>0.257009</td>\n",
              "      <td>0.166048</td>\n",
              "      <td>0.463258</td>\n",
              "      <td>0</td>\n",
              "      <td>0</td>\n",
              "      <td>0</td>\n",
              "      <td>0</td>\n",
              "      <td>0</td>\n",
              "      <td>1</td>\n",
              "    </tr>\n",
              "    <tr>\n",
              "      <th>7570</th>\n",
              "      <td>7571</td>\n",
              "      <td>3</td>\n",
              "      <td>3</td>\n",
              "      <td>157</td>\n",
              "      <td>4</td>\n",
              "      <td>0</td>\n",
              "      <td>0</td>\n",
              "      <td>2</td>\n",
              "      <td>5715</td>\n",
              "      <td>1</td>\n",
              "      <td>...</td>\n",
              "      <td>0.501974</td>\n",
              "      <td>0.285047</td>\n",
              "      <td>0.166048</td>\n",
              "      <td>0.688678</td>\n",
              "      <td>0</td>\n",
              "      <td>1</td>\n",
              "      <td>0</td>\n",
              "      <td>0</td>\n",
              "      <td>0</td>\n",
              "      <td>1</td>\n",
              "    </tr>\n",
              "  </tbody>\n",
              "</table>\n",
              "<p>5 rows × 29 columns</p>\n",
              "</div>\n",
              "      <button class=\"colab-df-convert\" onclick=\"convertToInteractive('df-5863938d-0b13-4f11-90b8-3a9ea102e52d')\"\n",
              "              title=\"Convert this dataframe to an interactive table.\"\n",
              "              style=\"display:none;\">\n",
              "        \n",
              "  <svg xmlns=\"http://www.w3.org/2000/svg\" height=\"24px\"viewBox=\"0 0 24 24\"\n",
              "       width=\"24px\">\n",
              "    <path d=\"M0 0h24v24H0V0z\" fill=\"none\"/>\n",
              "    <path d=\"M18.56 5.44l.94 2.06.94-2.06 2.06-.94-2.06-.94-.94-2.06-.94 2.06-2.06.94zm-11 1L8.5 8.5l.94-2.06 2.06-.94-2.06-.94L8.5 2.5l-.94 2.06-2.06.94zm10 10l.94 2.06.94-2.06 2.06-.94-2.06-.94-.94-2.06-.94 2.06-2.06.94z\"/><path d=\"M17.41 7.96l-1.37-1.37c-.4-.4-.92-.59-1.43-.59-.52 0-1.04.2-1.43.59L10.3 9.45l-7.72 7.72c-.78.78-.78 2.05 0 2.83L4 21.41c.39.39.9.59 1.41.59.51 0 1.02-.2 1.41-.59l7.78-7.78 2.81-2.81c.8-.78.8-2.07 0-2.86zM5.41 20L4 18.59l7.72-7.72 1.47 1.35L5.41 20z\"/>\n",
              "  </svg>\n",
              "      </button>\n",
              "      \n",
              "  <style>\n",
              "    .colab-df-container {\n",
              "      display:flex;\n",
              "      flex-wrap:wrap;\n",
              "      gap: 12px;\n",
              "    }\n",
              "\n",
              "    .colab-df-convert {\n",
              "      background-color: #E8F0FE;\n",
              "      border: none;\n",
              "      border-radius: 50%;\n",
              "      cursor: pointer;\n",
              "      display: none;\n",
              "      fill: #1967D2;\n",
              "      height: 32px;\n",
              "      padding: 0 0 0 0;\n",
              "      width: 32px;\n",
              "    }\n",
              "\n",
              "    .colab-df-convert:hover {\n",
              "      background-color: #E2EBFA;\n",
              "      box-shadow: 0px 1px 2px rgba(60, 64, 67, 0.3), 0px 1px 3px 1px rgba(60, 64, 67, 0.15);\n",
              "      fill: #174EA6;\n",
              "    }\n",
              "\n",
              "    [theme=dark] .colab-df-convert {\n",
              "      background-color: #3B4455;\n",
              "      fill: #D2E3FC;\n",
              "    }\n",
              "\n",
              "    [theme=dark] .colab-df-convert:hover {\n",
              "      background-color: #434B5C;\n",
              "      box-shadow: 0px 1px 3px 1px rgba(0, 0, 0, 0.15);\n",
              "      filter: drop-shadow(0px 1px 2px rgba(0, 0, 0, 0.3));\n",
              "      fill: #FFFFFF;\n",
              "    }\n",
              "  </style>\n",
              "\n",
              "      <script>\n",
              "        const buttonEl =\n",
              "          document.querySelector('#df-5863938d-0b13-4f11-90b8-3a9ea102e52d button.colab-df-convert');\n",
              "        buttonEl.style.display =\n",
              "          google.colab.kernel.accessAllowed ? 'block' : 'none';\n",
              "\n",
              "        async function convertToInteractive(key) {\n",
              "          const element = document.querySelector('#df-5863938d-0b13-4f11-90b8-3a9ea102e52d');\n",
              "          const dataTable =\n",
              "            await google.colab.kernel.invokeFunction('convertToInteractive',\n",
              "                                                     [key], {});\n",
              "          if (!dataTable) return;\n",
              "\n",
              "          const docLinkHtml = 'Like what you see? Visit the ' +\n",
              "            '<a target=\"_blank\" href=https://colab.research.google.com/notebooks/data_table.ipynb>data table notebook</a>'\n",
              "            + ' to learn more about interactive tables.';\n",
              "          element.innerHTML = '';\n",
              "          dataTable['output_type'] = 'display_data';\n",
              "          await google.colab.output.renderOutput(dataTable, element);\n",
              "          const docLink = document.createElement('div');\n",
              "          docLink.innerHTML = docLinkHtml;\n",
              "          element.appendChild(docLink);\n",
              "        }\n",
              "      </script>\n",
              "    </div>\n",
              "  </div>\n",
              "  "
            ]
          },
          "metadata": {},
          "execution_count": 49
        }
      ]
    },
    {
      "cell_type": "markdown",
      "source": [
        "- Dimensi data sebelum encoding adalah 10096 baris dan 25 kolom\n",
        "- Dimensi data setelah encoding adalah 10096 baris dan 29 kolom\n",
        "- Memakai drop_first=True agar dimensi dari kolom yang di OHE menjadi k-1, dimana k=jumlah value unik di dalam 1 kolom."
      ],
      "metadata": {
        "id": "4tN1HQdNUKQ-"
      }
    },
    {
      "cell_type": "markdown",
      "source": [
        "## (F) Handling Class Imbalance"
      ],
      "metadata": {
        "id": "MxZogyNGRcEb"
      }
    },
    {
      "cell_type": "code",
      "source": [
        "late = df.groupby(['Reached.on.Time_Y.N']).agg({'ID':'nunique'}).reset_index()\n",
        "late.columns = ['Late','Total']\n",
        "late['Percentage'] = late.apply(lambda x: round(x['Total']/10999*100,2),axis=1)\n",
        "late"
      ],
      "metadata": {
        "id": "jZEkEToCTZbM"
      },
      "execution_count": null,
      "outputs": []
    },
    {
      "cell_type": "markdown",
      "source": [
        "Rasio nilai 0 dan 1 pada kolom target adalah 40:60 dan distribusinya tidak sangat timpang, maka dari itu tidak ada class imbalance pada data ini."
      ],
      "metadata": {
        "id": "dOODZ3kZTFQr"
      }
    },
    {
      "cell_type": "markdown",
      "source": [
        "# [2] Feature Engineering"
      ],
      "metadata": {
        "id": "ROoH7iZZQlIK"
      }
    },
    {
      "cell_type": "markdown",
      "source": [
        "## (A) Feature selection (membuang feature yang kurang relevan atau redundan)"
      ],
      "metadata": {
        "id": "spRCItDSRgY7"
      }
    },
    {
      "cell_type": "code",
      "source": [
        "#menyeleksi kolom feature ID\n",
        "\n",
        "df_selection = df.drop(columns = ['ID','Customer_care_calls','Customer_rating'])\n",
        "df_selection.head()"
      ],
      "metadata": {
        "id": "aCvT9ufKOjM8",
        "colab": {
          "base_uri": "https://localhost:8080/",
          "height": 299
        },
        "outputId": "e7110e31-3ff8-47e1-9922-e4cdf36f15ac"
      },
      "execution_count": 51,
      "outputs": [
        {
          "output_type": "execute_result",
          "data": {
            "text/plain": [
              "   Cost_of_the_Product  Prior_purchases  Product_importance  Gender  \\\n",
              "0                  177                3                   0       0   \n",
              "1                  216                2                   0       1   \n",
              "2                  183                4                   0       1   \n",
              "3                  176                4                   1       1   \n",
              "4                  184                3                   1       0   \n",
              "\n",
              "   Discount_offered  Weight_in_gms  Reached.on.Time_Y.N  \\\n",
              "0                44           1233                    1   \n",
              "1                59           3088                    1   \n",
              "2                48           3374                    1   \n",
              "3                10           1177                    1   \n",
              "4                46           2484                    1   \n",
              "\n",
              "   Cost_of_the_Product_tr  Discount_offered_tr  Customer_care_calls_tr  ...  \\\n",
              "0               -0.545244             1.292465                0.031369  ...   \n",
              "1                0.018820             1.902873                0.031369  ...   \n",
              "2               -0.448692             1.421556               -5.199338  ...   \n",
              "3               -0.562796             0.583496               -0.826698  ...   \n",
              "4               -0.432104             1.352623               -5.199338  ...   \n",
              "\n",
              "   prior_purchase_std  product_cost_norm  discount_norm  weight_norm  \\\n",
              "0           -0.255579           0.378505       0.906526     0.033893   \n",
              "1           -1.323289           0.560748       0.976799     0.304894   \n",
              "2            0.501974           0.406542       0.927370     0.346676   \n",
              "3            0.501974           0.373832       0.551598     0.025712   \n",
              "4           -0.255579           0.411215       0.917174     0.216654   \n",
              "\n",
              "   Warehouse_block_B  Warehouse_block_C  Warehouse_block_D  Warehouse_block_F  \\\n",
              "0                  0                  0                  1                  0   \n",
              "1                  0                  0                  0                  1   \n",
              "2                  0                  0                  0                  0   \n",
              "3                  1                  0                  0                  0   \n",
              "4                  0                  1                  0                  0   \n",
              "\n",
              "   Mode_of_Shipment_Road  Mode_of_Shipment_Ship  \n",
              "0                      0                      0  \n",
              "1                      0                      0  \n",
              "2                      0                      0  \n",
              "3                      0                      0  \n",
              "4                      0                      0  \n",
              "\n",
              "[5 rows x 26 columns]"
            ],
            "text/html": [
              "\n",
              "  <div id=\"df-8f6b5e01-0202-402e-9ebe-8767960dd9cb\">\n",
              "    <div class=\"colab-df-container\">\n",
              "      <div>\n",
              "<style scoped>\n",
              "    .dataframe tbody tr th:only-of-type {\n",
              "        vertical-align: middle;\n",
              "    }\n",
              "\n",
              "    .dataframe tbody tr th {\n",
              "        vertical-align: top;\n",
              "    }\n",
              "\n",
              "    .dataframe thead th {\n",
              "        text-align: right;\n",
              "    }\n",
              "</style>\n",
              "<table border=\"1\" class=\"dataframe\">\n",
              "  <thead>\n",
              "    <tr style=\"text-align: right;\">\n",
              "      <th></th>\n",
              "      <th>Cost_of_the_Product</th>\n",
              "      <th>Prior_purchases</th>\n",
              "      <th>Product_importance</th>\n",
              "      <th>Gender</th>\n",
              "      <th>Discount_offered</th>\n",
              "      <th>Weight_in_gms</th>\n",
              "      <th>Reached.on.Time_Y.N</th>\n",
              "      <th>Cost_of_the_Product_tr</th>\n",
              "      <th>Discount_offered_tr</th>\n",
              "      <th>Customer_care_calls_tr</th>\n",
              "      <th>...</th>\n",
              "      <th>prior_purchase_std</th>\n",
              "      <th>product_cost_norm</th>\n",
              "      <th>discount_norm</th>\n",
              "      <th>weight_norm</th>\n",
              "      <th>Warehouse_block_B</th>\n",
              "      <th>Warehouse_block_C</th>\n",
              "      <th>Warehouse_block_D</th>\n",
              "      <th>Warehouse_block_F</th>\n",
              "      <th>Mode_of_Shipment_Road</th>\n",
              "      <th>Mode_of_Shipment_Ship</th>\n",
              "    </tr>\n",
              "  </thead>\n",
              "  <tbody>\n",
              "    <tr>\n",
              "      <th>0</th>\n",
              "      <td>177</td>\n",
              "      <td>3</td>\n",
              "      <td>0</td>\n",
              "      <td>0</td>\n",
              "      <td>44</td>\n",
              "      <td>1233</td>\n",
              "      <td>1</td>\n",
              "      <td>-0.545244</td>\n",
              "      <td>1.292465</td>\n",
              "      <td>0.031369</td>\n",
              "      <td>...</td>\n",
              "      <td>-0.255579</td>\n",
              "      <td>0.378505</td>\n",
              "      <td>0.906526</td>\n",
              "      <td>0.033893</td>\n",
              "      <td>0</td>\n",
              "      <td>0</td>\n",
              "      <td>1</td>\n",
              "      <td>0</td>\n",
              "      <td>0</td>\n",
              "      <td>0</td>\n",
              "    </tr>\n",
              "    <tr>\n",
              "      <th>1</th>\n",
              "      <td>216</td>\n",
              "      <td>2</td>\n",
              "      <td>0</td>\n",
              "      <td>1</td>\n",
              "      <td>59</td>\n",
              "      <td>3088</td>\n",
              "      <td>1</td>\n",
              "      <td>0.018820</td>\n",
              "      <td>1.902873</td>\n",
              "      <td>0.031369</td>\n",
              "      <td>...</td>\n",
              "      <td>-1.323289</td>\n",
              "      <td>0.560748</td>\n",
              "      <td>0.976799</td>\n",
              "      <td>0.304894</td>\n",
              "      <td>0</td>\n",
              "      <td>0</td>\n",
              "      <td>0</td>\n",
              "      <td>1</td>\n",
              "      <td>0</td>\n",
              "      <td>0</td>\n",
              "    </tr>\n",
              "    <tr>\n",
              "      <th>2</th>\n",
              "      <td>183</td>\n",
              "      <td>4</td>\n",
              "      <td>0</td>\n",
              "      <td>1</td>\n",
              "      <td>48</td>\n",
              "      <td>3374</td>\n",
              "      <td>1</td>\n",
              "      <td>-0.448692</td>\n",
              "      <td>1.421556</td>\n",
              "      <td>-5.199338</td>\n",
              "      <td>...</td>\n",
              "      <td>0.501974</td>\n",
              "      <td>0.406542</td>\n",
              "      <td>0.927370</td>\n",
              "      <td>0.346676</td>\n",
              "      <td>0</td>\n",
              "      <td>0</td>\n",
              "      <td>0</td>\n",
              "      <td>0</td>\n",
              "      <td>0</td>\n",
              "      <td>0</td>\n",
              "    </tr>\n",
              "    <tr>\n",
              "      <th>3</th>\n",
              "      <td>176</td>\n",
              "      <td>4</td>\n",
              "      <td>1</td>\n",
              "      <td>1</td>\n",
              "      <td>10</td>\n",
              "      <td>1177</td>\n",
              "      <td>1</td>\n",
              "      <td>-0.562796</td>\n",
              "      <td>0.583496</td>\n",
              "      <td>-0.826698</td>\n",
              "      <td>...</td>\n",
              "      <td>0.501974</td>\n",
              "      <td>0.373832</td>\n",
              "      <td>0.551598</td>\n",
              "      <td>0.025712</td>\n",
              "      <td>1</td>\n",
              "      <td>0</td>\n",
              "      <td>0</td>\n",
              "      <td>0</td>\n",
              "      <td>0</td>\n",
              "      <td>0</td>\n",
              "    </tr>\n",
              "    <tr>\n",
              "      <th>4</th>\n",
              "      <td>184</td>\n",
              "      <td>3</td>\n",
              "      <td>1</td>\n",
              "      <td>0</td>\n",
              "      <td>46</td>\n",
              "      <td>2484</td>\n",
              "      <td>1</td>\n",
              "      <td>-0.432104</td>\n",
              "      <td>1.352623</td>\n",
              "      <td>-5.199338</td>\n",
              "      <td>...</td>\n",
              "      <td>-0.255579</td>\n",
              "      <td>0.411215</td>\n",
              "      <td>0.917174</td>\n",
              "      <td>0.216654</td>\n",
              "      <td>0</td>\n",
              "      <td>1</td>\n",
              "      <td>0</td>\n",
              "      <td>0</td>\n",
              "      <td>0</td>\n",
              "      <td>0</td>\n",
              "    </tr>\n",
              "  </tbody>\n",
              "</table>\n",
              "<p>5 rows × 26 columns</p>\n",
              "</div>\n",
              "      <button class=\"colab-df-convert\" onclick=\"convertToInteractive('df-8f6b5e01-0202-402e-9ebe-8767960dd9cb')\"\n",
              "              title=\"Convert this dataframe to an interactive table.\"\n",
              "              style=\"display:none;\">\n",
              "        \n",
              "  <svg xmlns=\"http://www.w3.org/2000/svg\" height=\"24px\"viewBox=\"0 0 24 24\"\n",
              "       width=\"24px\">\n",
              "    <path d=\"M0 0h24v24H0V0z\" fill=\"none\"/>\n",
              "    <path d=\"M18.56 5.44l.94 2.06.94-2.06 2.06-.94-2.06-.94-.94-2.06-.94 2.06-2.06.94zm-11 1L8.5 8.5l.94-2.06 2.06-.94-2.06-.94L8.5 2.5l-.94 2.06-2.06.94zm10 10l.94 2.06.94-2.06 2.06-.94-2.06-.94-.94-2.06-.94 2.06-2.06.94z\"/><path d=\"M17.41 7.96l-1.37-1.37c-.4-.4-.92-.59-1.43-.59-.52 0-1.04.2-1.43.59L10.3 9.45l-7.72 7.72c-.78.78-.78 2.05 0 2.83L4 21.41c.39.39.9.59 1.41.59.51 0 1.02-.2 1.41-.59l7.78-7.78 2.81-2.81c.8-.78.8-2.07 0-2.86zM5.41 20L4 18.59l7.72-7.72 1.47 1.35L5.41 20z\"/>\n",
              "  </svg>\n",
              "      </button>\n",
              "      \n",
              "  <style>\n",
              "    .colab-df-container {\n",
              "      display:flex;\n",
              "      flex-wrap:wrap;\n",
              "      gap: 12px;\n",
              "    }\n",
              "\n",
              "    .colab-df-convert {\n",
              "      background-color: #E8F0FE;\n",
              "      border: none;\n",
              "      border-radius: 50%;\n",
              "      cursor: pointer;\n",
              "      display: none;\n",
              "      fill: #1967D2;\n",
              "      height: 32px;\n",
              "      padding: 0 0 0 0;\n",
              "      width: 32px;\n",
              "    }\n",
              "\n",
              "    .colab-df-convert:hover {\n",
              "      background-color: #E2EBFA;\n",
              "      box-shadow: 0px 1px 2px rgba(60, 64, 67, 0.3), 0px 1px 3px 1px rgba(60, 64, 67, 0.15);\n",
              "      fill: #174EA6;\n",
              "    }\n",
              "\n",
              "    [theme=dark] .colab-df-convert {\n",
              "      background-color: #3B4455;\n",
              "      fill: #D2E3FC;\n",
              "    }\n",
              "\n",
              "    [theme=dark] .colab-df-convert:hover {\n",
              "      background-color: #434B5C;\n",
              "      box-shadow: 0px 1px 3px 1px rgba(0, 0, 0, 0.15);\n",
              "      filter: drop-shadow(0px 1px 2px rgba(0, 0, 0, 0.3));\n",
              "      fill: #FFFFFF;\n",
              "    }\n",
              "  </style>\n",
              "\n",
              "      <script>\n",
              "        const buttonEl =\n",
              "          document.querySelector('#df-8f6b5e01-0202-402e-9ebe-8767960dd9cb button.colab-df-convert');\n",
              "        buttonEl.style.display =\n",
              "          google.colab.kernel.accessAllowed ? 'block' : 'none';\n",
              "\n",
              "        async function convertToInteractive(key) {\n",
              "          const element = document.querySelector('#df-8f6b5e01-0202-402e-9ebe-8767960dd9cb');\n",
              "          const dataTable =\n",
              "            await google.colab.kernel.invokeFunction('convertToInteractive',\n",
              "                                                     [key], {});\n",
              "          if (!dataTable) return;\n",
              "\n",
              "          const docLinkHtml = 'Like what you see? Visit the ' +\n",
              "            '<a target=\"_blank\" href=https://colab.research.google.com/notebooks/data_table.ipynb>data table notebook</a>'\n",
              "            + ' to learn more about interactive tables.';\n",
              "          element.innerHTML = '';\n",
              "          dataTable['output_type'] = 'display_data';\n",
              "          await google.colab.output.renderOutput(dataTable, element);\n",
              "          const docLink = document.createElement('div');\n",
              "          docLink.innerHTML = docLinkHtml;\n",
              "          element.appendChild(docLink);\n",
              "        }\n",
              "      </script>\n",
              "    </div>\n",
              "  </div>\n",
              "  "
            ]
          },
          "metadata": {},
          "execution_count": 51
        }
      ]
    },
    {
      "cell_type": "markdown",
      "source": [
        "Feature yang tidak diseleksi, yakni\n",
        "1. `ID`\n",
        "2. `Customer_care_calls`\n",
        "3. `Customer_rating`\n",
        "\n",
        "Hal ini disebabkan karena ketiga feature tersebut tidak berkorelasi terkait tepat waktu atau tidaknya pengiriman.\n",
        "\n",
        "Feature 2 dan 3 dibuang karena dapat menyebabkan data leakage, yang berarti bahwa data dari kedua feature ini sebenarnya belum ada di saat model digunakan untuk memprediksi pengiriman akan terlambat atau tidak.\n",
        "\n",
        "\n"
      ],
      "metadata": {
        "id": "9iyMGy40C3wi"
      }
    },
    {
      "cell_type": "markdown",
      "source": [
        "## (B) Feature extraction (membuat feature baru dari feature yang sudah ada)"
      ],
      "metadata": {
        "id": "X1cyAZ26RrK9"
      }
    },
    {
      "cell_type": "code",
      "source": [
        "#memgekstraksi antara feature Cost dengan Weight (cost per weight)\n",
        "#mengekstraksi antara feature Cost_Product dengan Diskon yang ditawarkan. jadi terlihat cost sebelum dan sesudah diskon \n",
        "\n",
        "df_selection['Cost_Per_Weight'] = (df_selection['Cost_of_the_Product'] / df_selection['Weight_in_gms'])\n",
        "df_selection['Cost_After_Disc'] = (df_selection['Cost_of_the_Product'] - df_selection['Discount_offered'])"
      ],
      "metadata": {
        "id": "tHqQ78vWN36J"
      },
      "execution_count": 52,
      "outputs": []
    },
    {
      "cell_type": "code",
      "source": [
        "#mengekstrasi Level Weight\n",
        "def segment(x):\n",
        "    if x['Weight_in_gms'] < 3634:\n",
        "        segment = 'Low'\n",
        "    elif x['Weight_in_gms'] <= 5846:\n",
        "        segment = 'Mid'\n",
        "    elif x['Weight_in_gms'] >= 5846:\n",
        "        segment = 'High'\n",
        "    return segment\n",
        "\n",
        "df_selection['Weight_level'] = df_selection.apply(lambda x: segment(x), axis=1)\n",
        "df_selection.head()"
      ],
      "metadata": {
        "colab": {
          "base_uri": "https://localhost:8080/",
          "height": 299
        },
        "id": "FhCEfxyZExNh",
        "outputId": "da74ac6f-d1ce-4d55-e373-2e9080ae527d"
      },
      "execution_count": 53,
      "outputs": [
        {
          "output_type": "execute_result",
          "data": {
            "text/plain": [
              "   Cost_of_the_Product  Prior_purchases  Product_importance  Gender  \\\n",
              "0                  177                3                   0       0   \n",
              "1                  216                2                   0       1   \n",
              "2                  183                4                   0       1   \n",
              "3                  176                4                   1       1   \n",
              "4                  184                3                   1       0   \n",
              "\n",
              "   Discount_offered  Weight_in_gms  Reached.on.Time_Y.N  \\\n",
              "0                44           1233                    1   \n",
              "1                59           3088                    1   \n",
              "2                48           3374                    1   \n",
              "3                10           1177                    1   \n",
              "4                46           2484                    1   \n",
              "\n",
              "   Cost_of_the_Product_tr  Discount_offered_tr  Customer_care_calls_tr  ...  \\\n",
              "0               -0.545244             1.292465                0.031369  ...   \n",
              "1                0.018820             1.902873                0.031369  ...   \n",
              "2               -0.448692             1.421556               -5.199338  ...   \n",
              "3               -0.562796             0.583496               -0.826698  ...   \n",
              "4               -0.432104             1.352623               -5.199338  ...   \n",
              "\n",
              "   weight_norm  Warehouse_block_B  Warehouse_block_C  Warehouse_block_D  \\\n",
              "0     0.033893                  0                  0                  1   \n",
              "1     0.304894                  0                  0                  0   \n",
              "2     0.346676                  0                  0                  0   \n",
              "3     0.025712                  1                  0                  0   \n",
              "4     0.216654                  0                  1                  0   \n",
              "\n",
              "   Warehouse_block_F  Mode_of_Shipment_Road  Mode_of_Shipment_Ship  \\\n",
              "0                  0                      0                      0   \n",
              "1                  1                      0                      0   \n",
              "2                  0                      0                      0   \n",
              "3                  0                      0                      0   \n",
              "4                  0                      0                      0   \n",
              "\n",
              "   Cost_Per_Weight  Cost_After_Disc  Weight_level  \n",
              "0         0.143552              133           Low  \n",
              "1         0.069948              157           Low  \n",
              "2         0.054238              135           Low  \n",
              "3         0.149533              166           Low  \n",
              "4         0.074074              138           Low  \n",
              "\n",
              "[5 rows x 29 columns]"
            ],
            "text/html": [
              "\n",
              "  <div id=\"df-5a9b9466-6c1a-412b-930a-b1afc11c7000\">\n",
              "    <div class=\"colab-df-container\">\n",
              "      <div>\n",
              "<style scoped>\n",
              "    .dataframe tbody tr th:only-of-type {\n",
              "        vertical-align: middle;\n",
              "    }\n",
              "\n",
              "    .dataframe tbody tr th {\n",
              "        vertical-align: top;\n",
              "    }\n",
              "\n",
              "    .dataframe thead th {\n",
              "        text-align: right;\n",
              "    }\n",
              "</style>\n",
              "<table border=\"1\" class=\"dataframe\">\n",
              "  <thead>\n",
              "    <tr style=\"text-align: right;\">\n",
              "      <th></th>\n",
              "      <th>Cost_of_the_Product</th>\n",
              "      <th>Prior_purchases</th>\n",
              "      <th>Product_importance</th>\n",
              "      <th>Gender</th>\n",
              "      <th>Discount_offered</th>\n",
              "      <th>Weight_in_gms</th>\n",
              "      <th>Reached.on.Time_Y.N</th>\n",
              "      <th>Cost_of_the_Product_tr</th>\n",
              "      <th>Discount_offered_tr</th>\n",
              "      <th>Customer_care_calls_tr</th>\n",
              "      <th>...</th>\n",
              "      <th>weight_norm</th>\n",
              "      <th>Warehouse_block_B</th>\n",
              "      <th>Warehouse_block_C</th>\n",
              "      <th>Warehouse_block_D</th>\n",
              "      <th>Warehouse_block_F</th>\n",
              "      <th>Mode_of_Shipment_Road</th>\n",
              "      <th>Mode_of_Shipment_Ship</th>\n",
              "      <th>Cost_Per_Weight</th>\n",
              "      <th>Cost_After_Disc</th>\n",
              "      <th>Weight_level</th>\n",
              "    </tr>\n",
              "  </thead>\n",
              "  <tbody>\n",
              "    <tr>\n",
              "      <th>0</th>\n",
              "      <td>177</td>\n",
              "      <td>3</td>\n",
              "      <td>0</td>\n",
              "      <td>0</td>\n",
              "      <td>44</td>\n",
              "      <td>1233</td>\n",
              "      <td>1</td>\n",
              "      <td>-0.545244</td>\n",
              "      <td>1.292465</td>\n",
              "      <td>0.031369</td>\n",
              "      <td>...</td>\n",
              "      <td>0.033893</td>\n",
              "      <td>0</td>\n",
              "      <td>0</td>\n",
              "      <td>1</td>\n",
              "      <td>0</td>\n",
              "      <td>0</td>\n",
              "      <td>0</td>\n",
              "      <td>0.143552</td>\n",
              "      <td>133</td>\n",
              "      <td>Low</td>\n",
              "    </tr>\n",
              "    <tr>\n",
              "      <th>1</th>\n",
              "      <td>216</td>\n",
              "      <td>2</td>\n",
              "      <td>0</td>\n",
              "      <td>1</td>\n",
              "      <td>59</td>\n",
              "      <td>3088</td>\n",
              "      <td>1</td>\n",
              "      <td>0.018820</td>\n",
              "      <td>1.902873</td>\n",
              "      <td>0.031369</td>\n",
              "      <td>...</td>\n",
              "      <td>0.304894</td>\n",
              "      <td>0</td>\n",
              "      <td>0</td>\n",
              "      <td>0</td>\n",
              "      <td>1</td>\n",
              "      <td>0</td>\n",
              "      <td>0</td>\n",
              "      <td>0.069948</td>\n",
              "      <td>157</td>\n",
              "      <td>Low</td>\n",
              "    </tr>\n",
              "    <tr>\n",
              "      <th>2</th>\n",
              "      <td>183</td>\n",
              "      <td>4</td>\n",
              "      <td>0</td>\n",
              "      <td>1</td>\n",
              "      <td>48</td>\n",
              "      <td>3374</td>\n",
              "      <td>1</td>\n",
              "      <td>-0.448692</td>\n",
              "      <td>1.421556</td>\n",
              "      <td>-5.199338</td>\n",
              "      <td>...</td>\n",
              "      <td>0.346676</td>\n",
              "      <td>0</td>\n",
              "      <td>0</td>\n",
              "      <td>0</td>\n",
              "      <td>0</td>\n",
              "      <td>0</td>\n",
              "      <td>0</td>\n",
              "      <td>0.054238</td>\n",
              "      <td>135</td>\n",
              "      <td>Low</td>\n",
              "    </tr>\n",
              "    <tr>\n",
              "      <th>3</th>\n",
              "      <td>176</td>\n",
              "      <td>4</td>\n",
              "      <td>1</td>\n",
              "      <td>1</td>\n",
              "      <td>10</td>\n",
              "      <td>1177</td>\n",
              "      <td>1</td>\n",
              "      <td>-0.562796</td>\n",
              "      <td>0.583496</td>\n",
              "      <td>-0.826698</td>\n",
              "      <td>...</td>\n",
              "      <td>0.025712</td>\n",
              "      <td>1</td>\n",
              "      <td>0</td>\n",
              "      <td>0</td>\n",
              "      <td>0</td>\n",
              "      <td>0</td>\n",
              "      <td>0</td>\n",
              "      <td>0.149533</td>\n",
              "      <td>166</td>\n",
              "      <td>Low</td>\n",
              "    </tr>\n",
              "    <tr>\n",
              "      <th>4</th>\n",
              "      <td>184</td>\n",
              "      <td>3</td>\n",
              "      <td>1</td>\n",
              "      <td>0</td>\n",
              "      <td>46</td>\n",
              "      <td>2484</td>\n",
              "      <td>1</td>\n",
              "      <td>-0.432104</td>\n",
              "      <td>1.352623</td>\n",
              "      <td>-5.199338</td>\n",
              "      <td>...</td>\n",
              "      <td>0.216654</td>\n",
              "      <td>0</td>\n",
              "      <td>1</td>\n",
              "      <td>0</td>\n",
              "      <td>0</td>\n",
              "      <td>0</td>\n",
              "      <td>0</td>\n",
              "      <td>0.074074</td>\n",
              "      <td>138</td>\n",
              "      <td>Low</td>\n",
              "    </tr>\n",
              "  </tbody>\n",
              "</table>\n",
              "<p>5 rows × 29 columns</p>\n",
              "</div>\n",
              "      <button class=\"colab-df-convert\" onclick=\"convertToInteractive('df-5a9b9466-6c1a-412b-930a-b1afc11c7000')\"\n",
              "              title=\"Convert this dataframe to an interactive table.\"\n",
              "              style=\"display:none;\">\n",
              "        \n",
              "  <svg xmlns=\"http://www.w3.org/2000/svg\" height=\"24px\"viewBox=\"0 0 24 24\"\n",
              "       width=\"24px\">\n",
              "    <path d=\"M0 0h24v24H0V0z\" fill=\"none\"/>\n",
              "    <path d=\"M18.56 5.44l.94 2.06.94-2.06 2.06-.94-2.06-.94-.94-2.06-.94 2.06-2.06.94zm-11 1L8.5 8.5l.94-2.06 2.06-.94-2.06-.94L8.5 2.5l-.94 2.06-2.06.94zm10 10l.94 2.06.94-2.06 2.06-.94-2.06-.94-.94-2.06-.94 2.06-2.06.94z\"/><path d=\"M17.41 7.96l-1.37-1.37c-.4-.4-.92-.59-1.43-.59-.52 0-1.04.2-1.43.59L10.3 9.45l-7.72 7.72c-.78.78-.78 2.05 0 2.83L4 21.41c.39.39.9.59 1.41.59.51 0 1.02-.2 1.41-.59l7.78-7.78 2.81-2.81c.8-.78.8-2.07 0-2.86zM5.41 20L4 18.59l7.72-7.72 1.47 1.35L5.41 20z\"/>\n",
              "  </svg>\n",
              "      </button>\n",
              "      \n",
              "  <style>\n",
              "    .colab-df-container {\n",
              "      display:flex;\n",
              "      flex-wrap:wrap;\n",
              "      gap: 12px;\n",
              "    }\n",
              "\n",
              "    .colab-df-convert {\n",
              "      background-color: #E8F0FE;\n",
              "      border: none;\n",
              "      border-radius: 50%;\n",
              "      cursor: pointer;\n",
              "      display: none;\n",
              "      fill: #1967D2;\n",
              "      height: 32px;\n",
              "      padding: 0 0 0 0;\n",
              "      width: 32px;\n",
              "    }\n",
              "\n",
              "    .colab-df-convert:hover {\n",
              "      background-color: #E2EBFA;\n",
              "      box-shadow: 0px 1px 2px rgba(60, 64, 67, 0.3), 0px 1px 3px 1px rgba(60, 64, 67, 0.15);\n",
              "      fill: #174EA6;\n",
              "    }\n",
              "\n",
              "    [theme=dark] .colab-df-convert {\n",
              "      background-color: #3B4455;\n",
              "      fill: #D2E3FC;\n",
              "    }\n",
              "\n",
              "    [theme=dark] .colab-df-convert:hover {\n",
              "      background-color: #434B5C;\n",
              "      box-shadow: 0px 1px 3px 1px rgba(0, 0, 0, 0.15);\n",
              "      filter: drop-shadow(0px 1px 2px rgba(0, 0, 0, 0.3));\n",
              "      fill: #FFFFFF;\n",
              "    }\n",
              "  </style>\n",
              "\n",
              "      <script>\n",
              "        const buttonEl =\n",
              "          document.querySelector('#df-5a9b9466-6c1a-412b-930a-b1afc11c7000 button.colab-df-convert');\n",
              "        buttonEl.style.display =\n",
              "          google.colab.kernel.accessAllowed ? 'block' : 'none';\n",
              "\n",
              "        async function convertToInteractive(key) {\n",
              "          const element = document.querySelector('#df-5a9b9466-6c1a-412b-930a-b1afc11c7000');\n",
              "          const dataTable =\n",
              "            await google.colab.kernel.invokeFunction('convertToInteractive',\n",
              "                                                     [key], {});\n",
              "          if (!dataTable) return;\n",
              "\n",
              "          const docLinkHtml = 'Like what you see? Visit the ' +\n",
              "            '<a target=\"_blank\" href=https://colab.research.google.com/notebooks/data_table.ipynb>data table notebook</a>'\n",
              "            + ' to learn more about interactive tables.';\n",
              "          element.innerHTML = '';\n",
              "          dataTable['output_type'] = 'display_data';\n",
              "          await google.colab.output.renderOutput(dataTable, element);\n",
              "          const docLink = document.createElement('div');\n",
              "          docLink.innerHTML = docLinkHtml;\n",
              "          element.appendChild(docLink);\n",
              "        }\n",
              "      </script>\n",
              "    </div>\n",
              "  </div>\n",
              "  "
            ]
          },
          "metadata": {},
          "execution_count": 53
        }
      ]
    },
    {
      "cell_type": "code",
      "source": [
        "df_selection.info()"
      ],
      "metadata": {
        "colab": {
          "base_uri": "https://localhost:8080/"
        },
        "id": "nNdAul0FJpAW",
        "outputId": "db452f11-7483-4d8f-8814-b8bf2b7c5a7d"
      },
      "execution_count": 55,
      "outputs": [
        {
          "output_type": "stream",
          "name": "stdout",
          "text": [
            "<class 'pandas.core.frame.DataFrame'>\n",
            "Int64Index: 10096 entries, 0 to 10998\n",
            "Data columns (total 29 columns):\n",
            " #   Column                  Non-Null Count  Dtype  \n",
            "---  ------                  --------------  -----  \n",
            " 0   Cost_of_the_Product     10096 non-null  int64  \n",
            " 1   Prior_purchases         10096 non-null  int64  \n",
            " 2   Product_importance      10096 non-null  int64  \n",
            " 3   Gender                  10096 non-null  int64  \n",
            " 4   Discount_offered        10096 non-null  int64  \n",
            " 5   Weight_in_gms           10096 non-null  int64  \n",
            " 6   Reached.on.Time_Y.N     10096 non-null  int64  \n",
            " 7   Cost_of_the_Product_tr  10096 non-null  float64\n",
            " 8   Discount_offered_tr     10096 non-null  float64\n",
            " 9   Customer_care_calls_tr  10096 non-null  float64\n",
            " 10  Weight_in_gms_tr        10096 non-null  float64\n",
            " 11  Prior_purchases_tr      10096 non-null  float64\n",
            " 12  Discount_offered_log    10096 non-null  float64\n",
            " 13  Prior_purchases_log     10096 non-null  float64\n",
            " 14  cust_call_std           10096 non-null  float64\n",
            " 15  cust_rating_std         10096 non-null  float64\n",
            " 16  prior_purchase_std      10096 non-null  float64\n",
            " 17  product_cost_norm       10096 non-null  float64\n",
            " 18  discount_norm           10096 non-null  float64\n",
            " 19  weight_norm             10096 non-null  float64\n",
            " 20  Warehouse_block_B       10096 non-null  uint8  \n",
            " 21  Warehouse_block_C       10096 non-null  uint8  \n",
            " 22  Warehouse_block_D       10096 non-null  uint8  \n",
            " 23  Warehouse_block_F       10096 non-null  uint8  \n",
            " 24  Mode_of_Shipment_Road   10096 non-null  uint8  \n",
            " 25  Mode_of_Shipment_Ship   10096 non-null  uint8  \n",
            " 26  Cost_Per_Weight         10096 non-null  float64\n",
            " 27  Cost_After_Disc         10096 non-null  int64  \n",
            " 28  Weight_level            10096 non-null  object \n",
            "dtypes: float64(14), int64(8), object(1), uint8(6)\n",
            "memory usage: 1.9+ MB\n"
          ]
        }
      ]
    },
    {
      "cell_type": "markdown",
      "source": [
        "- Kami menambah fitur `Cost_Per_Weight` karena memang di dunia shipping ada yang namanya rate harga untuk setiap unit berat. Karena unit berat yang kami pakai adalah gram, maka satuan dari fitur ini adalah $ per gram.\n",
        "- Kami menambah fitur `Cost_After_Disc` untuk melihat harga produk setelah diberi diskon.\n",
        "- Kami menambah fitur `Weight_level` untuk membagi nilai kolom `Weight_in_gms` menjadi 3 kategori berat dari Low, Middle, High."
      ],
      "metadata": {
        "id": "YN9ym1x8MUNb"
      }
    },
    {
      "cell_type": "markdown",
      "source": [
        "## (C) Tuliskan minimal 4 feature tambahan (selain yang sudah tersedia di dataset)\n",
        "yang mungkin akan sangat membantu membuat performansi model semakin bagus (ini hanya ide saja, untuk menguji kreativitas teman-teman, tidak perlu benar-benar dicari datanya dan tidak perlu diimplementasikan)"
      ],
      "metadata": {
        "id": "bZWzahTvRvqj"
      }
    },
    {
      "cell_type": "code",
      "source": [
        "# 1. Waktu Pengiriman\n",
        "# 2. Estimasi Waktu Barang Tiba\n",
        "# 3. Region (Domestic / International)\n",
        "# 4. Jarak"
      ],
      "metadata": {
        "id": "qqgWTB2DR0m3"
      },
      "execution_count": null,
      "outputs": []
    },
    {
      "cell_type": "markdown",
      "source": [
        "1. Waktu Pengiriman\n",
        "- Mengetahui kapan waktu yang sibuk dan longgar di setiap warehouse, sehingga dapat digunakan sebagai alat antisipasi potensi keterlambatan pengiriman.\n",
        "2. Estimasi Waktu Barang Tiba\n",
        "- Mengetahui durasi pengiriman barang dari warehouse menuju tempat pengiriman, sehingga dapat membantu model menganalisis tingkat efektifitas dan efisiensi suatu pengiriman.\n",
        "3. Region (Domestic / International)\n",
        "- Dokumen dan persyaratan pengiriman internasional memerlukan waktu yang lebih lama, sehingga dapat meningkatkan permodelan yang lebih akurat apabila pengiriman dapat dikategorikan berdasarkan region.\n",
        "4. Jarak\n",
        "- Semakin jauh jarak yang ditempuh dalam pengiriman, menyebabkan lamanya waktu pengiriman, dengan adanya fitur jarak diharapkan model dapat memprediksi keterlambatan dari suatu pengiriman."
      ],
      "metadata": {
        "id": "BVCxGa_MUH58"
      }
    },
    {
      "cell_type": "markdown",
      "source": [
        "-SELESAI-"
      ],
      "metadata": {
        "id": "mv6FuAhr-idG"
      }
    }
  ]
}