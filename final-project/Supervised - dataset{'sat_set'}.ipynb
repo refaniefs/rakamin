{
 "cells": [
  {
   "cell_type": "markdown",
   "id": "ad613df6",
   "metadata": {},
   "source": [
    "# Initialization\n",
    "Kami membagi pekerjaan nomor `1. Modelling` menjadi 4 jenis:\n",
    "1. Logistic Regression menggunakan Data Transformasi Quantile\n",
    "2. Logistic Regression menggunakan Data Transformasi Logaritmik\n",
    "3. Model Lainnya menggunakan Data Transformasi Quantile\n",
    "4. Model Lainnya menggunakan Data Transformasi Logaritmik"
   ]
  },
  {
   "cell_type": "code",
   "execution_count": 1,
   "id": "9dcd8250",
   "metadata": {},
   "outputs": [
    {
     "name": "stderr",
     "output_type": "stream",
     "text": [
      "fatal: destination path 'rakamin' already exists and is not an empty directory.\n"
     ]
    }
   ],
   "source": [
    "# Run to access the CSV file\n",
    "!git clone https://github.com/refaniefs/rakamin.git"
   ]
  },
  {
   "cell_type": "code",
   "execution_count": 2,
   "id": "74e6303e",
   "metadata": {},
   "outputs": [
    {
     "name": "stdout",
     "output_type": "stream",
     "text": [
      "Requirement already satisfied: xlrd in c:\\users\\asus1\\anaconda3\\lib\\site-packages (2.0.1)\n"
     ]
    }
   ],
   "source": [
    "# Run to install and import packages\n",
    "!pip install --upgrade xlrd"
   ]
  },
  {
   "cell_type": "code",
   "execution_count": 3,
   "id": "7faf7ef7",
   "metadata": {},
   "outputs": [],
   "source": [
    "import warnings\n",
    "warnings.filterwarnings('ignore')\n",
    "import numpy as np\n",
    "import pandas as pd\n",
    "import matplotlib.pyplot as plt\n",
    "import seaborn as sns\n",
    "from scipy import stats\n",
    "from sklearn.model_selection import train_test_split, RandomizedSearchCV, GridSearchCV\n",
    "from sklearn.metrics import accuracy_score, precision_score, recall_score, f1_score, roc_auc_score\n",
    "from sklearn.ensemble import AdaBoostClassifier\n",
    "from sklearn.linear_model import LogisticRegression\n",
    "from sklearn.neighbors import KNeighborsClassifier\n",
    "from sklearn.svm import SVC\n",
    "from sklearn.tree import DecisionTreeClassifier\n",
    "from sklearn.ensemble import RandomForestClassifier, GradientBoostingClassifier\n",
    "from sklearn.naive_bayes import GaussianNB\n",
    "from xgboost import XGBClassifier"
   ]
  },
  {
   "cell_type": "markdown",
   "id": "20971a56",
   "metadata": {},
   "source": [
    "## Function"
   ]
  },
  {
   "cell_type": "code",
   "execution_count": 4,
   "id": "b5b37b1d",
   "metadata": {},
   "outputs": [],
   "source": [
    "def model_eval(clf, pred, xtrain, ytrain, xtest, ytest, ypredproba, ypredtrainproba):\n",
    "    print(\"Score: \", round(clf.score(xtest, ytest),4))\n",
    "    print(\"Accuracy (Test Set): \", round(accuracy_score(ytest, pred),4))\n",
    "    print(\"Precision (Test Set): \", round(precision_score(ytest, pred),4))\n",
    "    print(\"Recall (Test Set): \", round(recall_score(ytest, pred),4))\n",
    "    print(\"F1-Score (Test Set): \", round(f1_score(ytest, pred),4))\n",
    "    print('roc-auc (test-proba): ', round(roc_auc_score(ytest, ypredproba[:,1]),4))\n",
    "    print('roc-auc (train-proba): ', round(roc_auc_score(ytrain, ypredtrainproba[:,1]),4))"
   ]
  },
  {
   "cell_type": "markdown",
   "id": "13795eaf",
   "metadata": {},
   "source": [
    "## Preprocessed Data"
   ]
  },
  {
   "cell_type": "code",
   "execution_count": 5,
   "id": "4e431280",
   "metadata": {},
   "outputs": [
    {
     "data": {
      "text/html": [
       "<div>\n",
       "<style scoped>\n",
       "    .dataframe tbody tr th:only-of-type {\n",
       "        vertical-align: middle;\n",
       "    }\n",
       "\n",
       "    .dataframe tbody tr th {\n",
       "        vertical-align: top;\n",
       "    }\n",
       "\n",
       "    .dataframe thead th {\n",
       "        text-align: right;\n",
       "    }\n",
       "</style>\n",
       "<table border=\"1\" class=\"dataframe\">\n",
       "  <thead>\n",
       "    <tr style=\"text-align: right;\">\n",
       "      <th></th>\n",
       "      <th>Product_importance</th>\n",
       "      <th>Gender</th>\n",
       "      <th>Reached.on.Time_Y.N</th>\n",
       "      <th>Cost_of_the_Product_tr</th>\n",
       "      <th>Discount_offered_tr</th>\n",
       "      <th>Weight_in_gms_tr</th>\n",
       "      <th>Prior_purchases_tr</th>\n",
       "      <th>prior_purchase_std</th>\n",
       "      <th>product_cost_norm</th>\n",
       "      <th>discount_norm</th>\n",
       "      <th>...</th>\n",
       "      <th>Warehouse_block_B</th>\n",
       "      <th>Warehouse_block_C</th>\n",
       "      <th>Warehouse_block_D</th>\n",
       "      <th>Warehouse_block_F</th>\n",
       "      <th>Mode_of_Shipment_Flight</th>\n",
       "      <th>Mode_of_Shipment_Road</th>\n",
       "      <th>Mode_of_Shipment_Ship</th>\n",
       "      <th>Cost_Per_Weight</th>\n",
       "      <th>Cost_After_Disc</th>\n",
       "      <th>Weight_level</th>\n",
       "    </tr>\n",
       "  </thead>\n",
       "  <tbody>\n",
       "    <tr>\n",
       "      <th>6490</th>\n",
       "      <td>1</td>\n",
       "      <td>0</td>\n",
       "      <td>0</td>\n",
       "      <td>-1.378114</td>\n",
       "      <td>0.365531</td>\n",
       "      <td>0.634479</td>\n",
       "      <td>-5.199338</td>\n",
       "      <td>-1.323289</td>\n",
       "      <td>0.210280</td>\n",
       "      <td>0.526359</td>\n",
       "      <td>...</td>\n",
       "      <td>1</td>\n",
       "      <td>0</td>\n",
       "      <td>0</td>\n",
       "      <td>0</td>\n",
       "      <td>0</td>\n",
       "      <td>0</td>\n",
       "      <td>1</td>\n",
       "      <td>0.028200</td>\n",
       "      <td>132</td>\n",
       "      <td>1</td>\n",
       "    </tr>\n",
       "    <tr>\n",
       "      <th>4788</th>\n",
       "      <td>2</td>\n",
       "      <td>0</td>\n",
       "      <td>1</td>\n",
       "      <td>1.304121</td>\n",
       "      <td>-0.017565</td>\n",
       "      <td>0.387078</td>\n",
       "      <td>-0.211070</td>\n",
       "      <td>-0.255579</td>\n",
       "      <td>0.813084</td>\n",
       "      <td>0.466155</td>\n",
       "      <td>...</td>\n",
       "      <td>0</td>\n",
       "      <td>0</td>\n",
       "      <td>0</td>\n",
       "      <td>1</td>\n",
       "      <td>0</td>\n",
       "      <td>0</td>\n",
       "      <td>1</td>\n",
       "      <td>0.057569</td>\n",
       "      <td>263</td>\n",
       "      <td>1</td>\n",
       "    </tr>\n",
       "    <tr>\n",
       "      <th>9486</th>\n",
       "      <td>1</td>\n",
       "      <td>1</td>\n",
       "      <td>1</td>\n",
       "      <td>-1.689670</td>\n",
       "      <td>-1.207532</td>\n",
       "      <td>1.803394</td>\n",
       "      <td>1.037937</td>\n",
       "      <td>1.089577</td>\n",
       "      <td>0.177570</td>\n",
       "      <td>0.166048</td>\n",
       "      <td>...</td>\n",
       "      <td>0</td>\n",
       "      <td>0</td>\n",
       "      <td>0</td>\n",
       "      <td>0</td>\n",
       "      <td>0</td>\n",
       "      <td>0</td>\n",
       "      <td>1</td>\n",
       "      <td>0.022847</td>\n",
       "      <td>132</td>\n",
       "      <td>2</td>\n",
       "    </tr>\n",
       "    <tr>\n",
       "      <th>6599</th>\n",
       "      <td>1</td>\n",
       "      <td>0</td>\n",
       "      <td>0</td>\n",
       "      <td>-0.149853</td>\n",
       "      <td>-0.875354</td>\n",
       "      <td>0.033880</td>\n",
       "      <td>-0.211070</td>\n",
       "      <td>-0.255579</td>\n",
       "      <td>0.500000</td>\n",
       "      <td>0.263179</td>\n",
       "      <td>...</td>\n",
       "      <td>0</td>\n",
       "      <td>0</td>\n",
       "      <td>1</td>\n",
       "      <td>0</td>\n",
       "      <td>1</td>\n",
       "      <td>0</td>\n",
       "      <td>0</td>\n",
       "      <td>0.048379</td>\n",
       "      <td>200</td>\n",
       "      <td>1</td>\n",
       "    </tr>\n",
       "    <tr>\n",
       "      <th>1023</th>\n",
       "      <td>0</td>\n",
       "      <td>1</td>\n",
       "      <td>1</td>\n",
       "      <td>-1.199766</td>\n",
       "      <td>0.746351</td>\n",
       "      <td>-0.866189</td>\n",
       "      <td>0.506348</td>\n",
       "      <td>0.501974</td>\n",
       "      <td>0.238318</td>\n",
       "      <td>0.614449</td>\n",
       "      <td>...</td>\n",
       "      <td>0</td>\n",
       "      <td>0</td>\n",
       "      <td>0</td>\n",
       "      <td>0</td>\n",
       "      <td>0</td>\n",
       "      <td>0</td>\n",
       "      <td>1</td>\n",
       "      <td>0.088715</td>\n",
       "      <td>134</td>\n",
       "      <td>0</td>\n",
       "    </tr>\n",
       "  </tbody>\n",
       "</table>\n",
       "<p>5 rows × 22 columns</p>\n",
       "</div>"
      ],
      "text/plain": [
       "      Product_importance  Gender  Reached.on.Time_Y.N  Cost_of_the_Product_tr  \\\n",
       "6490                   1       0                    0               -1.378114   \n",
       "4788                   2       0                    1                1.304121   \n",
       "9486                   1       1                    1               -1.689670   \n",
       "6599                   1       0                    0               -0.149853   \n",
       "1023                   0       1                    1               -1.199766   \n",
       "\n",
       "      Discount_offered_tr  Weight_in_gms_tr  Prior_purchases_tr  \\\n",
       "6490             0.365531          0.634479           -5.199338   \n",
       "4788            -0.017565          0.387078           -0.211070   \n",
       "9486            -1.207532          1.803394            1.037937   \n",
       "6599            -0.875354          0.033880           -0.211070   \n",
       "1023             0.746351         -0.866189            0.506348   \n",
       "\n",
       "      prior_purchase_std  product_cost_norm  discount_norm  ...  \\\n",
       "6490           -1.323289           0.210280       0.526359  ...   \n",
       "4788           -0.255579           0.813084       0.466155  ...   \n",
       "9486            1.089577           0.177570       0.166048  ...   \n",
       "6599           -0.255579           0.500000       0.263179  ...   \n",
       "1023            0.501974           0.238318       0.614449  ...   \n",
       "\n",
       "      Warehouse_block_B  Warehouse_block_C  Warehouse_block_D  \\\n",
       "6490                  1                  0                  0   \n",
       "4788                  0                  0                  0   \n",
       "9486                  0                  0                  0   \n",
       "6599                  0                  0                  1   \n",
       "1023                  0                  0                  0   \n",
       "\n",
       "      Warehouse_block_F  Mode_of_Shipment_Flight  Mode_of_Shipment_Road  \\\n",
       "6490                  0                        0                      0   \n",
       "4788                  1                        0                      0   \n",
       "9486                  0                        0                      0   \n",
       "6599                  0                        1                      0   \n",
       "1023                  0                        0                      0   \n",
       "\n",
       "      Mode_of_Shipment_Ship  Cost_Per_Weight  Cost_After_Disc  Weight_level  \n",
       "6490                      1         0.028200              132             1  \n",
       "4788                      1         0.057569              263             1  \n",
       "9486                      1         0.022847              132             2  \n",
       "6599                      0         0.048379              200             1  \n",
       "1023                      1         0.088715              134             0  \n",
       "\n",
       "[5 rows x 22 columns]"
      ]
     },
     "execution_count": 5,
     "metadata": {},
     "output_type": "execute_result"
    }
   ],
   "source": [
    "df = pd.read_csv('shipping_fix.csv')\n",
    "\n",
    "# use this instead if using google colab:\n",
    "# df = pd.read_csv('/rakamin/final-project/shipping_fix.csv')\n",
    "\n",
    "df = df.drop(columns=['Unnamed: 0'])\n",
    "df.sample(5)"
   ]
  },
  {
   "cell_type": "code",
   "execution_count": 6,
   "id": "a9631310",
   "metadata": {},
   "outputs": [
    {
     "data": {
      "text/plain": [
       "Index(['Product_importance', 'Gender', 'Reached.on.Time_Y.N',\n",
       "       'Cost_of_the_Product_tr', 'Discount_offered_tr', 'Weight_in_gms_tr',\n",
       "       'Prior_purchases_tr', 'prior_purchase_std', 'product_cost_norm',\n",
       "       'discount_norm', 'weight_norm', 'Warehouse_block_A',\n",
       "       'Warehouse_block_B', 'Warehouse_block_C', 'Warehouse_block_D',\n",
       "       'Warehouse_block_F', 'Mode_of_Shipment_Flight', 'Mode_of_Shipment_Road',\n",
       "       'Mode_of_Shipment_Ship', 'Cost_Per_Weight', 'Cost_After_Disc',\n",
       "       'Weight_level'],\n",
       "      dtype='object')"
      ]
     },
     "execution_count": 6,
     "metadata": {},
     "output_type": "execute_result"
    }
   ],
   "source": [
    "df.columns"
   ]
  },
  {
   "cell_type": "code",
   "execution_count": 7,
   "id": "f3d54ffb",
   "metadata": {},
   "outputs": [],
   "source": [
    "# pengelompokan kolom berdasarkan jenis preprocessing\n",
    "df_quantile = df.drop(columns = ['product_cost_norm','prior_purchase_std','discount_norm','weight_norm'])\n",
    "\n",
    "df_log = df.drop(columns = ['Cost_of_the_Product_tr','Discount_offered_tr','Weight_in_gms_tr','Prior_purchases_tr'])"
   ]
  },
  {
   "cell_type": "markdown",
   "id": "63aab3af",
   "metadata": {},
   "source": [
    "# [Soal Nomor 1] Modelling"
   ]
  },
  {
   "cell_type": "markdown",
   "id": "abf55828",
   "metadata": {},
   "source": [
    "# Jenis 1. Logistic Regression with Quantile Trf."
   ]
  },
  {
   "cell_type": "code",
   "execution_count": 8,
   "id": "2e3919df",
   "metadata": {},
   "outputs": [],
   "source": [
    "df_quantile_lr = df_quantile.drop(columns=['Warehouse_block_A','Mode_of_Shipment_Flight'])"
   ]
  },
  {
   "cell_type": "markdown",
   "id": "8e397dca",
   "metadata": {},
   "source": [
    "## 1A. Split Data"
   ]
  },
  {
   "cell_type": "code",
   "execution_count": 9,
   "id": "2556eec4",
   "metadata": {},
   "outputs": [],
   "source": [
    "# split data\n",
    "X_qlr = df_quantile_lr.drop(columns=['Reached.on.Time_Y.N'])\n",
    "y_qlr = df_quantile_lr[['Reached.on.Time_Y.N']]\n",
    "\n",
    "X_qlr_train, X_qlr_test, y_qlr_train, y_qlr_test = train_test_split(X_qlr, y_qlr, test_size=0.3, random_state=42,stratify=y_qlr)"
   ]
  },
  {
   "cell_type": "markdown",
   "id": "19df53e1",
   "metadata": {},
   "source": [
    "## 1B. Modelling"
   ]
  },
  {
   "cell_type": "code",
   "execution_count": 10,
   "id": "acf7f873",
   "metadata": {},
   "outputs": [
    {
     "data": {
      "text/plain": [
       "LogisticRegression(random_state=42)"
      ]
     },
     "execution_count": 10,
     "metadata": {},
     "output_type": "execute_result"
    }
   ],
   "source": [
    "quantile_lr = LogisticRegression(random_state=42)\n",
    "\n",
    "quantile_lr.fit(X_qlr_train, y_qlr_train)"
   ]
  },
  {
   "cell_type": "markdown",
   "id": "8a5461d3",
   "metadata": {},
   "source": [
    "## 1C. Evaluation Metrics"
   ]
  },
  {
   "cell_type": "code",
   "execution_count": 11,
   "id": "c36d2b26",
   "metadata": {},
   "outputs": [
    {
     "name": "stdout",
     "output_type": "stream",
     "text": [
      "Score:  0.65\n",
      "Accuracy (Test Set):  0.65\n",
      "Precision (Test Set):  0.6952\n",
      "Recall (Test Set):  0.747\n",
      "F1-Score (Test Set):  0.7202\n",
      "roc-auc (test-proba):  0.7241\n",
      "roc-auc (train-proba):  0.7302\n"
     ]
    }
   ],
   "source": [
    "y_qlr_pred = quantile_lr.predict(X_qlr_test)\n",
    "y_qlr_pred_proba = quantile_lr.predict_proba(X_qlr_test)\n",
    "y_qlr_pred_train = quantile_lr.predict(X_qlr_train)\n",
    "y_qlr_pred_train_proba = quantile_lr.predict_proba(X_qlr_train)\n",
    "\n",
    "model_eval(quantile_lr, y_qlr_pred, X_qlr_train, y_qlr_train, X_qlr_test, y_qlr_test, y_qlr_pred_proba, y_qlr_pred_train_proba)"
   ]
  },
  {
   "cell_type": "markdown",
   "id": "f703b37c",
   "metadata": {},
   "source": [
    "## 1D. Apakah Model Sudah Best-fit?\n",
    "Belum bestfit, score penting dapat ditingkatkan menggunakan hyperparameter tuning."
   ]
  },
  {
   "cell_type": "markdown",
   "id": "9ebdd247",
   "metadata": {},
   "source": [
    "## 1E. Hyperparameter Tuning"
   ]
  },
  {
   "cell_type": "code",
   "execution_count": 12,
   "id": "0aa34f2d",
   "metadata": {},
   "outputs": [
    {
     "name": "stdout",
     "output_type": "stream",
     "text": [
      "Score:  0.7247\n",
      "Accuracy (Test Set):  0.6425\n",
      "Precision (Test Set):  0.6881\n",
      "Recall (Test Set):  0.7442\n",
      "F1-Score (Test Set):  0.7151\n",
      "roc-auc (test-proba):  0.7247\n",
      "roc-auc (train-proba):  0.7301\n",
      "      \n",
      "Best penalty : l2\n",
      "Best C : 0.03\n",
      "Best solver : liblinear\n"
     ]
    }
   ],
   "source": [
    "hyperparameterqlr = {'penalty':['l1', 'l2'],\n",
    "                    'C':[0.0001, 0.001, 0.1, 0.02, 0.03, 0.01],\n",
    "                    'solver' : ['newton-cg', 'lbfgs', 'liblinear', 'sag', 'saga']}\n",
    "\n",
    "quantile_lr = RandomizedSearchCV(LogisticRegression(random_state=42), hyperparameterqlr, cv=5, scoring='roc_auc')\n",
    "quantile_lr.fit(X_qlr_train, y_qlr_train)\n",
    "\n",
    "y_qlr_pred = quantile_lr.predict(X_qlr_test)\n",
    "y_qlr_pred_proba = quantile_lr.predict_proba(X_qlr_test)\n",
    "y_qlr_pred_train = quantile_lr.predict(X_qlr_train)\n",
    "y_qlr_pred_train_proba = quantile_lr.predict_proba(X_qlr_train)\n",
    "\n",
    "model_eval(quantile_lr, y_qlr_pred, X_qlr_train, y_qlr_train, X_qlr_test, y_qlr_test, y_qlr_pred_proba, y_qlr_pred_train_proba)\n",
    "print('      ')\n",
    "hpqlr = list(hyperparameterqlr)\n",
    "for i in hpqlr:\n",
    "    print('Best',i,':', quantile_lr.best_estimator_.get_params()[i])"
   ]
  },
  {
   "cell_type": "code",
   "execution_count": 13,
   "id": "f5834108",
   "metadata": {},
   "outputs": [
    {
     "data": {
      "text/plain": [
       "<sklearn.metrics._plot.confusion_matrix.ConfusionMatrixDisplay at 0x2894705e880>"
      ]
     },
     "execution_count": 13,
     "metadata": {},
     "output_type": "execute_result"
    },
    {
     "data": {
      "image/png": "[encoded data removed]",
      "text/plain": [
       "<Figure size 432x288 with 2 Axes>"
      ]
     },
     "metadata": {
      "needs_background": "light"
     },
     "output_type": "display_data"
    }
   ],
   "source": [
    "from sklearn.metrics import plot_confusion_matrix\n",
    "plot_confusion_matrix(quantile_lr, X_qlr_test, y_qlr_test)"
   ]
  },
  {
   "cell_type": "markdown",
   "id": "6bf106b2",
   "metadata": {},
   "source": [
    "# Jenis 2. Logistic Regression with Logarithmic Trf."
   ]
  },
  {
   "cell_type": "code",
   "execution_count": 14,
   "id": "266253f8",
   "metadata": {},
   "outputs": [],
   "source": [
    "df_log_lr = df_log.drop(columns=['Warehouse_block_A','Mode_of_Shipment_Flight'])"
   ]
  },
  {
   "cell_type": "markdown",
   "id": "b5928fb6",
   "metadata": {},
   "source": [
    "## 1A. Split Data"
   ]
  },
  {
   "cell_type": "code",
   "execution_count": 15,
   "id": "e459fd2c",
   "metadata": {},
   "outputs": [],
   "source": [
    "X_llr = df_log_lr.drop(columns=['Reached.on.Time_Y.N'])\n",
    "y_llr = df_log_lr[['Reached.on.Time_Y.N']]\n",
    "\n",
    "X_llr_train, X_llr_test, y_llr_train, y_llr_test = train_test_split(X_llr, y_llr, test_size=0.3, random_state=42,stratify=y_llr)"
   ]
  },
  {
   "cell_type": "markdown",
   "id": "c667aded",
   "metadata": {},
   "source": [
    "## 1B. Modelling"
   ]
  },
  {
   "cell_type": "code",
   "execution_count": 16,
   "id": "9bcb54a9",
   "metadata": {},
   "outputs": [
    {
     "data": {
      "text/plain": [
       "LogisticRegression(random_state=42)"
      ]
     },
     "execution_count": 16,
     "metadata": {},
     "output_type": "execute_result"
    }
   ],
   "source": [
    "log_lr = LogisticRegression(random_state=42)\n",
    "\n",
    "log_lr.fit(X_llr_train, y_llr_train)"
   ]
  },
  {
   "cell_type": "markdown",
   "id": "557140b3",
   "metadata": {},
   "source": [
    "## 1C. Evaluation Metrics"
   ]
  },
  {
   "cell_type": "code",
   "execution_count": 17,
   "id": "0e50bd64",
   "metadata": {},
   "outputs": [
    {
     "name": "stdout",
     "output_type": "stream",
     "text": [
      "Score:  0.6474\n",
      "Accuracy (Test Set):  0.6474\n",
      "Precision (Test Set):  0.7007\n",
      "Recall (Test Set):  0.7245\n",
      "F1-Score (Test Set):  0.7124\n",
      "roc-auc (test-proba):  0.7306\n",
      "roc-auc (train-proba):  0.7355\n"
     ]
    }
   ],
   "source": [
    "y_llr_pred = log_lr.predict(X_llr_test)\n",
    "y_llr_pred_proba = log_lr.predict_proba(X_llr_test)\n",
    "y_llr_pred_train = log_lr.predict(X_llr_train)\n",
    "y_llr_pred_train_proba = log_lr.predict_proba(X_llr_train)\n",
    "\n",
    "model_eval(log_lr, y_llr_pred, X_llr_train, y_llr_train, X_llr_test, y_llr_test, y_llr_pred_proba, y_llr_pred_train_proba)"
   ]
  },
  {
   "cell_type": "markdown",
   "id": "46be8600",
   "metadata": {},
   "source": [
    "## 1D. Apakah Model Sudah Best-fit?\n",
    "Belum bestfit, score penting dapat ditingkatkan menggunakan hyperparameter tuning."
   ]
  },
  {
   "cell_type": "markdown",
   "id": "361f21c4",
   "metadata": {},
   "source": [
    "## 1E. Hyperparameter Tuning"
   ]
  },
  {
   "cell_type": "code",
   "execution_count": 18,
   "id": "fd08960d",
   "metadata": {},
   "outputs": [
    {
     "name": "stdout",
     "output_type": "stream",
     "text": [
      "Score:  0.73\n",
      "Accuracy (Test Set):  0.6467\n",
      "Precision (Test Set):  0.6933\n",
      "Recall (Test Set):  0.7426\n",
      "F1-Score (Test Set):  0.7171\n",
      "roc-auc (test-proba):  0.73\n",
      "roc-auc (train-proba):  0.7373\n",
      "      \n",
      "Best penalty : l2\n",
      "Best C : 0.1\n",
      "Best solver : liblinear\n"
     ]
    }
   ],
   "source": [
    "hyperparameterllr = {'penalty':['l1', 'l2'],\n",
    "                    'C':[0.0001, 0.001, 0.1, 0.02, 0.03, 0.01],\n",
    "                    'solver' : ['newton-cg', 'lbfgs', 'liblinear', 'sag', 'saga']}\n",
    "\n",
    "log_lr = RandomizedSearchCV(LogisticRegression(random_state=42), hyperparameterllr, cv=5, scoring='roc_auc')\n",
    "log_lr.fit(X_llr_train, y_llr_train)\n",
    "\n",
    "y_llr_pred = log_lr.predict(X_llr_test)\n",
    "y_llr_pred_proba = log_lr.predict_proba(X_llr_test)\n",
    "y_llr_pred_train = log_lr.predict(X_llr_train)\n",
    "y_llr_pred_train_proba = log_lr.predict_proba(X_llr_train)\n",
    "\n",
    "model_eval(log_lr, y_llr_pred, X_llr_train, y_llr_train, X_llr_test, y_llr_test, y_llr_pred_proba, y_llr_pred_train_proba)\n",
    "print('      ')\n",
    "hpllr = list(hyperparameterllr)\n",
    "for i in hpllr:\n",
    "    print('Best',i,':', log_lr.best_estimator_.get_params()[i])"
   ]
  },
  {
   "cell_type": "code",
   "execution_count": 19,
   "id": "7e072aa8",
   "metadata": {},
   "outputs": [
    {
     "data": {
      "text/plain": [
       "<sklearn.metrics._plot.confusion_matrix.ConfusionMatrixDisplay at 0x2894e607b50>"
      ]
     },
     "execution_count": 19,
     "metadata": {},
     "output_type": "execute_result"
    },
    {
     "data": {
      "image/png": "[encoded data removed]",
      "text/plain": [
       "<Figure size 432x288 with 2 Axes>"
      ]
     },
     "metadata": {
      "needs_background": "light"
     },
     "output_type": "display_data"
    }
   ],
   "source": [
    "from sklearn.metrics import plot_confusion_matrix\n",
    "plot_confusion_matrix(log_lr, X_llr_test, y_llr_test)"
   ]
  },
  {
   "cell_type": "markdown",
   "id": "07b22194",
   "metadata": {},
   "source": [
    "# Jenis 3. Quantile Trf Cases"
   ]
  },
  {
   "cell_type": "markdown",
   "id": "701786ab",
   "metadata": {},
   "source": [
    "## 1A. Split Data"
   ]
  },
  {
   "cell_type": "code",
   "execution_count": 20,
   "id": "6a1e60ba",
   "metadata": {},
   "outputs": [],
   "source": [
    "X_q = df_quantile.drop(columns=['Reached.on.Time_Y.N'])\n",
    "y_q = df_quantile[['Reached.on.Time_Y.N']]\n",
    "\n",
    "X_q_train, X_q_test, y_q_train, y_q_test = train_test_split(X_q, y_q, test_size=0.3, random_state=42,stratify=y_q)"
   ]
  },
  {
   "cell_type": "markdown",
   "id": "a631cb12",
   "metadata": {},
   "source": [
    "## 1B. Modelling"
   ]
  },
  {
   "cell_type": "code",
   "execution_count": 21,
   "id": "084b763d",
   "metadata": {},
   "outputs": [],
   "source": [
    "models = {\n",
    "    \"K-Nearest Neighbors\": KNeighborsClassifier(),\n",
    "    \"Decision Tree\": DecisionTreeClassifier(random_state=42),\n",
    "    # \"Support Vector Machine (RBF Kernel)\": SVC(random_state=42),\n",
    "    \"Random Forest\": RandomForestClassifier(random_state=42),\n",
    "    \"Gradient Boosting\": GradientBoostingClassifier(random_state=42),\n",
    "    \"Gaussian Naive Bayes\": GaussianNB(),\n",
    "    \"AdaBoost\": AdaBoostClassifier(random_state=42),\n",
    "    \"XGboost\": XGBClassifier(random_state=42)\n",
    "}"
   ]
  },
  {
   "cell_type": "markdown",
   "id": "98ae6af1",
   "metadata": {},
   "source": [
    "## 1C. Evaluation Metrics"
   ]
  },
  {
   "cell_type": "code",
   "execution_count": 22,
   "id": "18ddc1c6",
   "metadata": {},
   "outputs": [
    {
     "name": "stdout",
     "output_type": "stream",
     "text": [
      "K-Nearest Neighbors\n",
      "          \n",
      "Score:  0.6395\n",
      "Accuracy (Test Set):  0.6395\n",
      "Precision (Test Set):  0.7139\n",
      "Recall (Test Set):  0.6709\n",
      "F1-Score (Test Set):  0.6917\n",
      "roc-auc (test-proba):  0.6969\n",
      "roc-auc (train-proba):  0.8579\n",
      "          \n",
      "==========================================================\n",
      "          \n",
      "Decision Tree\n",
      "          \n",
      "Score:  0.6458\n",
      "Accuracy (Test Set):  0.6458\n",
      "Precision (Test Set):  0.7072\n",
      "Recall (Test Set):  0.7037\n",
      "F1-Score (Test Set):  0.7055\n",
      "roc-auc (test-proba):  0.6307\n",
      "roc-auc (train-proba):  1.0\n",
      "          \n",
      "==========================================================\n",
      "          \n",
      "Random Forest\n",
      "          \n",
      "Score:  0.654\n",
      "Accuracy (Test Set):  0.654\n",
      "Precision (Test Set):  0.7529\n",
      "Recall (Test Set):  0.6342\n",
      "F1-Score (Test Set):  0.6885\n",
      "roc-auc (test-proba):  0.7359\n",
      "roc-auc (train-proba):  1.0\n",
      "          \n",
      "==========================================================\n",
      "          \n",
      "Gradient Boosting\n",
      "          \n",
      "Score:  0.6758\n",
      "Accuracy (Test Set):  0.6758\n",
      "Precision (Test Set):  0.8505\n",
      "Recall (Test Set):  0.5608\n",
      "F1-Score (Test Set):  0.6759\n",
      "roc-auc (test-proba):  0.7326\n",
      "roc-auc (train-proba):  0.8406\n",
      "          \n",
      "==========================================================\n",
      "          \n",
      "Gaussian Naive Bayes\n",
      "          \n",
      "Score:  0.659\n",
      "Accuracy (Test Set):  0.659\n",
      "Precision (Test Set):  0.7638\n",
      "Recall (Test Set):  0.6287\n",
      "F1-Score (Test Set):  0.6897\n",
      "roc-auc (test-proba):  0.7337\n",
      "roc-auc (train-proba):  0.7416\n",
      "          \n",
      "==========================================================\n",
      "          \n",
      "AdaBoost\n",
      "          \n",
      "Score:  0.6741\n",
      "Accuracy (Test Set):  0.6741\n",
      "Precision (Test Set):  0.8301\n",
      "Recall (Test Set):  0.5778\n",
      "F1-Score (Test Set):  0.6813\n",
      "roc-auc (test-proba):  0.7377\n",
      "roc-auc (train-proba):  0.7907\n",
      "          \n",
      "==========================================================\n",
      "          \n",
      "XGboost\n",
      "          \n",
      "Score:  0.6434\n",
      "Accuracy (Test Set):  0.6434\n",
      "Precision (Test Set):  0.7266\n",
      "Recall (Test Set):  0.655\n",
      "F1-Score (Test Set):  0.6889\n",
      "roc-auc (test-proba):  0.7321\n",
      "roc-auc (train-proba):  0.9832\n",
      "          \n",
      "==========================================================\n",
      "          \n"
     ]
    }
   ],
   "source": [
    "for name, model in models.items():\n",
    "    model.fit(X_q_train, y_q_train)\n",
    "    y_q_pred = model.predict(X_q_test)\n",
    "    y_q_pred_proba = model.predict_proba(X_q_test)\n",
    "    y_q_pred_train = model.predict(X_q_train)\n",
    "    y_q_pred_train_proba = model.predict_proba(X_q_train)\n",
    "    print(name)\n",
    "    print('          ')\n",
    "    model_eval(model, y_q_pred, X_q_train, y_q_train, X_q_test, y_q_test, y_q_pred_proba, y_q_pred_train_proba)\n",
    "    print('          ')\n",
    "    print('==========================================================')\n",
    "    print('          ')"
   ]
  },
  {
   "cell_type": "markdown",
   "id": "a086b25a",
   "metadata": {},
   "source": [
    "## 1D. Apakah Model Sudah Best-fit?\n",
    "Belum bestfit, score penting dapat ditingkatkan menggunakan hyperparameter tuning."
   ]
  },
  {
   "cell_type": "markdown",
   "id": "11e80896",
   "metadata": {},
   "source": [
    "## 1E. Hyperparameter Tuning"
   ]
  },
  {
   "cell_type": "code",
   "execution_count": 23,
   "id": "28168a2b",
   "metadata": {},
   "outputs": [],
   "source": [
    "# LogisticRegression Hyperparameter Tuning\n",
    "hyperparameterlr = {'penalty' : ['l1', 'l2'],\n",
    "                    'C' : [0.0001, 0.001, 0.1, 0.02, 0.03, 0.01], \n",
    "                    'solver' : ['newton-cg', 'lbfgs', 'liblinear', 'sag', 'saga']\n",
    "                   }\n",
    "\n",
    "# DesicionTree Hyperparameter Tuning\n",
    "hyperparameterdt = {'max_depth' : [int(x) for x in np.linspace(1, 100, num = 30)], # Maximum number of levels in tree, \n",
    "                    'min_samples_split' : [2, 5, 10, 100], # Minimum number of samples required to split a node, \n",
    "                    'min_samples_leaf' : [1, 2, 4, 10, 20, 50], # Minimum number of samples required at each leaf node,\n",
    "                    'max_features' : ['auto', 'sqrt','log2'] # Number of features to consider at every split\n",
    "                    }\n",
    "\n",
    "# RandomForest Hyperparameter Tuning\n",
    "hyperparameterrf = {'n_estimators' : [int(x) for x in np.linspace(1, 10, num = 10)],\n",
    "                    'max_depth' : [int(x) for x in np.linspace(1, 10, num = 3)], # Maximum number of levels in tree\n",
    "                    'min_samples_split' : [int(x) for x in np.linspace(1, 40, num = 30)], # Minimum number of samples required to split a node\n",
    "                    'min_samples_leaf' : [int(x) for x in np.linspace(1, 20, num = 30)], # Minimum number of samples required at each leaf node\n",
    "                    'max_features' : ['auto', 'sqrt','log2'], # Number of features to consider at every split\n",
    "                    'criterion' : ['gini', 'entropy']\n",
    "                   }\n",
    "\n",
    "# K-Nearest Neighbors Hyperparameter Tuning]\n",
    "hyperparameterkn = {'leaf_size' : list(range(1,50)),\n",
    "                    'n_neighbors' : list(range(1,30)),\n",
    "                    'p' : [1,2]\n",
    "                   }\n",
    "\n",
    "# Gaussian Naive Bayes Hyperparameter Tuning\n",
    "hyperparameterNB = {'var_smoothing' : [int(x) for x in np.linspace(0,100, num=10)] \n",
    "                   }\n",
    "\n",
    "# Gradient Boosting hyperparameter Tuning\n",
    "hyperparametergb = {'n_estimators' : [2,6,8,10],\n",
    "                    'max_depth' : [int(x) for x in np.linspace(1, 100, num = 5)], # Maximum number of levels in tree\n",
    "                    'learning_rate' : [0.01,0.1,1,10]\n",
    "                   }\n",
    "\n",
    "# # Adaboost hyperparameter Tuning\n",
    "# n_estimators = [int(x) for x in np.linspace(100, 2000, 1000)],\n",
    "# learning_rate = [float(x) for x in np.linspace(0.001, 0.1, 100)],\n",
    "# algorithm = ['SAMME', 'SAMME.R']\n",
    "# hyperparameterab = dict(\n",
    "#                         n_estimators = n_estimators,\n",
    "#                         algorithm = algorithm, \n",
    "#                         learning_rate = learning_rate \n",
    "#                         )\n",
    "\n",
    "# XGBoost hyperparameter Tuning\n",
    "hyperparameterxgb = {'max_depth' : [int(x) for x in np.linspace(10, 50, 10)],\n",
    "                    'min_child_weight' : [int(x) for x in np.linspace(1, 10, 11)],\n",
    "                    'gamma' : [float(x) for x in np.linspace(0, 1, 11)],\n",
    "                    'tree_method' : ['auto', 'exact', 'approx', 'hist'],\n",
    "                    'colsample_bytree' : [float(x) for x in np.linspace(0, 1, 11)],\n",
    "                    'learning_rate' : [float(x) for x in np.linspace(0, 1, 100)],\n",
    "                    'reg_lambda' : [float(x) for x in np.linspace(0, 1, 11)],\n",
    "                    'reg_alpha' : [float(x) for x in np.linspace(0, 1, 11)],\n",
    "                    }"
   ]
  },
  {
   "cell_type": "code",
   "execution_count": 24,
   "id": "63c1a507",
   "metadata": {},
   "outputs": [],
   "source": [
    "models = {\n",
    "    \"K-Nearest Neighbors tuned\": RandomizedSearchCV(KNeighborsClassifier(), hyperparameterkn, cv=5, scoring='roc_auc'),\n",
    "    \"Decision Tree tuned\": RandomizedSearchCV(DecisionTreeClassifier(random_state = 42), hyperparameterdt, cv=5, scoring='roc_auc'),\n",
    "    # \"Support Vector Machine (RBF Kernel)\": SVC(),\n",
    "    \"Random Forest tuned\": RandomizedSearchCV(RandomForestClassifier(random_state = 42), hyperparameterrf, cv=5, scoring='roc_auc'),\n",
    "    \"Gradient Boosting tuned\": RandomizedSearchCV(GradientBoostingClassifier(random_state = 42), hyperparametergb, cv=5, scoring='roc_auc'),\n",
    "    \"Gaussian Naive Bayes tuned\": RandomizedSearchCV(GaussianNB(), hyperparameterNB, cv=5, verbose=1, scoring='roc_auc'),\n",
    "    # \"AdaBoost tuned\": RandomizedSearchCV(AdaBoostClassifier(random_state = 42), hyperparametergb, cv=5, scoring='roc_auc'),\n",
    "    \"XGboost tuned\": RandomizedSearchCV(XGBClassifier(random_state = 42), hyperparametergb, cv=5, scoring='roc_auc')\n",
    "}"
   ]
  },
  {
   "cell_type": "code",
   "execution_count": 25,
   "id": "0be644eb",
   "metadata": {},
   "outputs": [
    {
     "name": "stdout",
     "output_type": "stream",
     "text": [
      "K-Nearest Neighbors tuned\n",
      "          \n",
      "Score:  0.7191\n",
      "Accuracy (Test Set):  0.6431\n",
      "Precision (Test Set):  0.7365\n",
      "Recall (Test Set):  0.6353\n",
      "F1-Score (Test Set):  0.6822\n",
      "roc-auc (test-proba):  0.7191\n",
      "roc-auc (train-proba):  0.7927\n",
      "          \n",
      "==========================================================\n",
      "          \n",
      "Decision Tree tuned\n",
      "          \n",
      "Score:  0.7383\n",
      "Accuracy (Test Set):  0.65\n",
      "Precision (Test Set):  0.7415\n",
      "Recall (Test Set):  0.644\n",
      "F1-Score (Test Set):  0.6893\n",
      "roc-auc (test-proba):  0.7383\n",
      "roc-auc (train-proba):  0.829\n",
      "          \n",
      "==========================================================\n",
      "          \n",
      "Random Forest tuned\n",
      "          \n",
      "Score:  0.7409\n",
      "Accuracy (Test Set):  0.6728\n",
      "Precision (Test Set):  0.818\n",
      "Recall (Test Set):  0.5882\n",
      "F1-Score (Test Set):  0.6843\n",
      "roc-auc (test-proba):  0.7409\n",
      "roc-auc (train-proba):  0.8393\n",
      "          \n",
      "==========================================================\n",
      "          \n",
      "Gradient Boosting tuned\n",
      "          \n",
      "Score:  0.7369\n",
      "Accuracy (Test Set):  0.6028\n",
      "Precision (Test Set):  0.6028\n",
      "Recall (Test Set):  1.0\n",
      "F1-Score (Test Set):  0.7522\n",
      "roc-auc (test-proba):  0.7369\n",
      "roc-auc (train-proba):  0.7468\n",
      "          \n",
      "==========================================================\n",
      "          \n",
      "Fitting 5 folds for each of 10 candidates, totalling 50 fits\n",
      "Gaussian Naive Bayes tuned\n",
      "          \n",
      "Score:  0.7337\n",
      "Accuracy (Test Set):  0.6586\n",
      "Precision (Test Set):  0.7636\n",
      "Recall (Test Set):  0.6281\n",
      "F1-Score (Test Set):  0.6893\n",
      "roc-auc (test-proba):  0.7337\n",
      "roc-auc (train-proba):  0.7416\n",
      "          \n",
      "==========================================================\n",
      "          \n",
      "XGboost tuned\n",
      "          \n",
      "Score:  0.7318\n",
      "Accuracy (Test Set):  0.6471\n",
      "Precision (Test Set):  0.7241\n",
      "Recall (Test Set):  0.6698\n",
      "F1-Score (Test Set):  0.6959\n",
      "roc-auc (test-proba):  0.7318\n",
      "roc-auc (train-proba):  0.9572\n",
      "          \n",
      "==========================================================\n",
      "          \n"
     ]
    }
   ],
   "source": [
    "for name, model in models.items():\n",
    "    model.fit(X_q_train, y_q_train)\n",
    "    y_q_pred = model.predict(X_q_test)\n",
    "    y_q_pred_proba = model.predict_proba(X_q_test)\n",
    "    y_q_pred_train = model.predict(X_q_train)\n",
    "    y_q_pred_train_proba = model.predict_proba(X_q_train)\n",
    "    print(name)\n",
    "    print('          ')\n",
    "    model_eval(model, y_q_pred, X_q_train, y_q_train, X_q_test, y_q_test, y_q_pred_proba, y_q_pred_train_proba)\n",
    "    print('          ')\n",
    "    print('==========================================================')\n",
    "    print('          ')"
   ]
  },
  {
   "cell_type": "markdown",
   "id": "cd1a1b0c",
   "metadata": {},
   "source": [
    "# Jenis 4. Logarithmic Trf Cases"
   ]
  },
  {
   "cell_type": "markdown",
   "id": "5508c936",
   "metadata": {},
   "source": [
    "## 1A. Split Data"
   ]
  },
  {
   "cell_type": "code",
   "execution_count": 26,
   "id": "68dd6040",
   "metadata": {},
   "outputs": [],
   "source": [
    "X_l = df_log.drop(columns=['Reached.on.Time_Y.N'])\n",
    "y_l = df_log[['Reached.on.Time_Y.N']]\n",
    "\n",
    "X_l_train, X_l_test, y_l_train, y_l_test = train_test_split(X_l, y_l, test_size=0.3, random_state=42,stratify=y_l)"
   ]
  },
  {
   "cell_type": "markdown",
   "id": "a6ba6e20",
   "metadata": {},
   "source": [
    "## 1B. Modelling"
   ]
  },
  {
   "cell_type": "code",
   "execution_count": 27,
   "id": "3b157991",
   "metadata": {},
   "outputs": [],
   "source": [
    "models = {\n",
    "    \"K-Nearest Neighbors\": KNeighborsClassifier(),\n",
    "    \"Decision Tree\": DecisionTreeClassifier(random_state=42),\n",
    "    # \"Support Vector Machine (RBF Kernel)\": SVC(),\n",
    "    \"Random Forest\": RandomForestClassifier(random_state=42),\n",
    "    \"Gradient Boosting\": GradientBoostingClassifier(random_state=42),\n",
    "    \"Gaussian Naive Bayes\": GaussianNB(),\n",
    "    \"AdaBoost\": AdaBoostClassifier(random_state=42),\n",
    "    \"XGboost\": XGBClassifier(random_state=42)\n",
    "}\n"
   ]
  },
  {
   "cell_type": "markdown",
   "id": "5818760a",
   "metadata": {},
   "source": [
    "## 1C. Evaluation Metrics"
   ]
  },
  {
   "cell_type": "code",
   "execution_count": 28,
   "id": "1deff92b",
   "metadata": {},
   "outputs": [
    {
     "name": "stdout",
     "output_type": "stream",
     "text": [
      "K-Nearest Neighbors\n",
      "          \n",
      "Score:  0.6144\n",
      "Accuracy (Test Set):  0.6144\n",
      "Precision (Test Set):  0.6836\n",
      "Recall (Test Set):  0.6709\n",
      "F1-Score (Test Set):  0.6772\n",
      "roc-auc (test-proba):  0.6533\n",
      "roc-auc (train-proba):  0.8347\n",
      "          \n",
      "==========================================================\n",
      "          \n",
      "Decision Tree\n",
      "          \n",
      "Score:  0.651\n",
      "Accuracy (Test Set):  0.651\n",
      "Precision (Test Set):  0.7082\n",
      "Recall (Test Set):  0.7163\n",
      "F1-Score (Test Set):  0.7122\n",
      "roc-auc (test-proba):  0.6341\n",
      "roc-auc (train-proba):  1.0\n",
      "          \n",
      "==========================================================\n",
      "          \n",
      "Random Forest\n",
      "          \n",
      "Score:  0.6576\n",
      "Accuracy (Test Set):  0.6576\n",
      "Precision (Test Set):  0.753\n",
      "Recall (Test Set):  0.6429\n",
      "F1-Score (Test Set):  0.6936\n",
      "roc-auc (test-proba):  0.7361\n",
      "roc-auc (train-proba):  1.0\n",
      "          \n",
      "==========================================================\n",
      "          \n",
      "Gradient Boosting\n",
      "          \n",
      "Score:  0.6761\n",
      "Accuracy (Test Set):  0.6761\n",
      "Precision (Test Set):  0.8512\n",
      "Recall (Test Set):  0.5608\n",
      "F1-Score (Test Set):  0.6761\n",
      "roc-auc (test-proba):  0.7324\n",
      "roc-auc (train-proba):  0.8406\n",
      "          \n",
      "==========================================================\n",
      "          \n",
      "Gaussian Naive Bayes\n",
      "          \n",
      "Score:  0.6705\n",
      "Accuracy (Test Set):  0.6705\n",
      "Precision (Test Set):  0.8062\n",
      "Recall (Test Set):  0.5969\n",
      "F1-Score (Test Set):  0.686\n",
      "roc-auc (test-proba):  0.7351\n",
      "roc-auc (train-proba):  0.7437\n",
      "          \n",
      "==========================================================\n",
      "          \n",
      "AdaBoost\n",
      "          \n",
      "Score:  0.6741\n",
      "Accuracy (Test Set):  0.6741\n",
      "Precision (Test Set):  0.8301\n",
      "Recall (Test Set):  0.5778\n",
      "F1-Score (Test Set):  0.6813\n",
      "roc-auc (test-proba):  0.7377\n",
      "roc-auc (train-proba):  0.7907\n",
      "          \n",
      "==========================================================\n",
      "          \n",
      "XGboost\n",
      "          \n",
      "Score:  0.6428\n",
      "Accuracy (Test Set):  0.6428\n",
      "Precision (Test Set):  0.7257\n",
      "Recall (Test Set):  0.655\n",
      "F1-Score (Test Set):  0.6885\n",
      "roc-auc (test-proba):  0.7318\n",
      "roc-auc (train-proba):  0.9832\n",
      "          \n",
      "==========================================================\n",
      "          \n"
     ]
    }
   ],
   "source": [
    "for name, model in models.items():\n",
    "    model.fit(X_l_train, y_l_train)\n",
    "    y_l_pred = model.predict(X_l_test)\n",
    "    y_l_pred_proba = model.predict_proba(X_l_test)\n",
    "    y_l_pred_train = model.predict(X_l_train)\n",
    "    y_l_pred_train_proba = model.predict_proba(X_l_train)\n",
    "    print(name)\n",
    "    print('          ')\n",
    "    model_eval(model, y_l_pred, X_l_train, y_l_train, X_l_test, y_l_test, y_l_pred_proba, y_l_pred_train_proba)\n",
    "    print('          ')\n",
    "    print('==========================================================')\n",
    "    print('          ')"
   ]
  },
  {
   "cell_type": "markdown",
   "id": "de4e331e",
   "metadata": {},
   "source": [
    "## 1D. Apakah Model Sudah Best-fit?\n",
    "Belum bestfit, score penting dapat ditingkatkan menggunakan hyperparameter tuning."
   ]
  },
  {
   "cell_type": "markdown",
   "id": "c40d0952",
   "metadata": {},
   "source": [
    "## 1E. Hyperparameter Tuning"
   ]
  },
  {
   "cell_type": "code",
   "execution_count": 29,
   "id": "b22e637c",
   "metadata": {},
   "outputs": [],
   "source": [
    "# LogisticRegression Hyperparameter Tuning\n",
    "hyperparameterlr = {'penalty' : ['l1', 'l2'],\n",
    "                    'C' : [0.0001, 0.001, 0.1, 0.02, 0.03, 0.01], \n",
    "                    'solver' : ['newton-cg', 'lbfgs', 'liblinear', 'sag', 'saga']\n",
    "                   }\n",
    "\n",
    "# DesicionTree Hyperparameter Tuning\n",
    "hyperparameterdt = {'max_depth' : [int(x) for x in np.linspace(1, 100, num = 30)], # Maximum number of levels in tree, \n",
    "                    'min_samples_split' : [2, 5, 10, 100], # Minimum number of samples required to split a node, \n",
    "                    'min_samples_leaf' : [1, 2, 4, 10, 20, 50], # Minimum number of samples required at each leaf node,\n",
    "                    'max_features' : ['auto', 'sqrt','log2'] # Number of features to consider at every split\n",
    "                    }\n",
    "\n",
    "# RandomForest Hyperparameter Tuning\n",
    "hyperparameterrf = {'n_estimators' : [int(x) for x in np.linspace(1, 10, num = 10)],\n",
    "                    'max_depth' : [int(x) for x in np.linspace(1, 10, num = 3)], # Maximum number of levels in tree\n",
    "                    'min_samples_split' : [int(x) for x in np.linspace(1, 40, num = 30)], # Minimum number of samples required to split a node\n",
    "                    'min_samples_leaf' : [int(x) for x in np.linspace(1, 20, num = 30)], # Minimum number of samples required at each leaf node\n",
    "                    'max_features' : ['auto', 'sqrt','log2'], # Number of features to consider at every split\n",
    "                    'criterion' : ['gini', 'entropy']\n",
    "                   }\n",
    "\n",
    "# K-Nearest Neighbors Hyperparameter Tuning]\n",
    "hyperparameterkn = {'leaf_size' : list(range(1,50)),\n",
    "                    'n_neighbors' : list(range(1,30)),\n",
    "                    'p' : [1,2]\n",
    "                   }\n",
    "\n",
    "# Gaussian Naive Bayes Hyperparameter Tuning\n",
    "hyperparameterNB = {'var_smoothing' : [int(x) for x in np.linspace(0,100, num=10)] \n",
    "                   }\n",
    "\n",
    "# Gradient Boosting hyperparameter Tuning\n",
    "hyperparametergb = {'n_estimators' : [2,6,8,10],\n",
    "                    'max_depth' : [int(x) for x in np.linspace(1, 100, num = 5)], # Maximum number of levels in tree\n",
    "                    'learning_rate' : [0.01,0.1,1,10]\n",
    "                   }\n",
    "\n",
    "# # Adaboost hyperparameter Tuning\n",
    "# n_estimators = [int(x) for x in np.linspace(100, 2000, 1000)],\n",
    "# learning_rate = [float(x) for x in np.linspace(0.001, 0.1, 100)],\n",
    "# algorithm = ['SAMME', 'SAMME.R']\n",
    "# hyperparameterab = dict(\n",
    "#                         n_estimators = n_estimators,\n",
    "#                         algorithm = algorithm, \n",
    "#                         learning_rate = learning_rate \n",
    "#                         )\n",
    "\n",
    "# XGBoost hyperparameter Tuning\n",
    "hyperparameterxgb = {'max_depth' : [int(x) for x in np.linspace(10, 50, 10)],\n",
    "                    'min_child_weight' : [int(x) for x in np.linspace(1, 10, 11)],\n",
    "                    'gamma' : [float(x) for x in np.linspace(0, 1, 11)],\n",
    "                    'tree_method' : ['auto', 'exact', 'approx', 'hist'],\n",
    "                    'colsample_bytree' : [float(x) for x in np.linspace(0, 1, 11)],\n",
    "                    'learning_rate' : [float(x) for x in np.linspace(0, 1, 100)],\n",
    "                    'reg_lambda' : [float(x) for x in np.linspace(0, 1, 11)],\n",
    "                    'reg_alpha' : [float(x) for x in np.linspace(0, 1, 11)],\n",
    "                    }"
   ]
  },
  {
   "cell_type": "code",
   "execution_count": 30,
   "id": "f04ba164",
   "metadata": {},
   "outputs": [],
   "source": [
    "models = {\n",
    "    \"K-Nearest Neighbors tuned\": RandomizedSearchCV(KNeighborsClassifier(), hyperparameterkn, cv=5, scoring='roc_auc'),\n",
    "    \"Decision Tree tuned\": RandomizedSearchCV(DecisionTreeClassifier(random_state = 42), hyperparameterdt, cv=5, scoring='roc_auc'),\n",
    "    # \"Support Vector Machine (RBF Kernel)\": SVC(),\n",
    "    \"Random Forest tuned\": RandomizedSearchCV(RandomForestClassifier(random_state = 42), hyperparameterrf, cv=5, scoring='roc_auc'),\n",
    "    \"Gradient Boosting tuned\": RandomizedSearchCV(GradientBoostingClassifier(random_state = 42), hyperparametergb, cv=5, scoring='roc_auc'),\n",
    "    \"Gaussian Naive Bayes tuned\": RandomizedSearchCV(GaussianNB(), hyperparameterNB, cv=5, verbose=1, scoring='roc_auc'),\n",
    "    # \"AdaBoost tuned\": RandomizedSearchCV(AdaBoostClassifier(random_state = 42), hyperparametergb, cv=5, scoring='roc_auc'),\n",
    "    \"XGboost tuned\": RandomizedSearchCV(XGBClassifier(random_state = 42), hyperparametergb, cv=5, scoring='roc_auc')\n",
    "}"
   ]
  },
  {
   "cell_type": "code",
   "execution_count": 31,
   "id": "ae765d07",
   "metadata": {},
   "outputs": [
    {
     "name": "stdout",
     "output_type": "stream",
     "text": [
      "K-Nearest Neighbors tuned\n",
      "          \n",
      "Score:  0.6949\n",
      "Accuracy (Test Set):  0.621\n",
      "Precision (Test Set):  0.6747\n",
      "Recall (Test Set):  0.7169\n",
      "F1-Score (Test Set):  0.6952\n",
      "roc-auc (test-proba):  0.6949\n",
      "roc-auc (train-proba):  0.766\n",
      "          \n",
      "==========================================================\n",
      "          \n",
      "Decision Tree tuned\n",
      "          \n",
      "Score:  0.7271\n",
      "Accuracy (Test Set):  0.6464\n",
      "Precision (Test Set):  0.7289\n",
      "Recall (Test Set):  0.6583\n",
      "F1-Score (Test Set):  0.6918\n",
      "roc-auc (test-proba):  0.7271\n",
      "roc-auc (train-proba):  0.8396\n",
      "          \n",
      "==========================================================\n",
      "          \n",
      "Random Forest tuned\n",
      "          \n",
      "Score:  0.7269\n",
      "Accuracy (Test Set):  0.6633\n",
      "Precision (Test Set):  0.8292\n",
      "Recall (Test Set):  0.5559\n",
      "F1-Score (Test Set):  0.6656\n",
      "roc-auc (test-proba):  0.7269\n",
      "roc-auc (train-proba):  0.8564\n",
      "          \n",
      "==========================================================\n",
      "          \n",
      "Gradient Boosting tuned\n",
      "          \n",
      "Score:  0.7362\n",
      "Accuracy (Test Set):  0.6718\n",
      "Precision (Test Set):  0.8925\n",
      "Recall (Test Set):  0.5181\n",
      "F1-Score (Test Set):  0.6556\n",
      "roc-auc (test-proba):  0.7362\n",
      "roc-auc (train-proba):  0.7638\n",
      "          \n",
      "==========================================================\n",
      "          \n",
      "Fitting 5 folds for each of 10 candidates, totalling 50 fits\n",
      "Gaussian Naive Bayes tuned\n",
      "          \n",
      "Score:  0.7352\n",
      "Accuracy (Test Set):  0.6705\n",
      "Precision (Test Set):  0.8062\n",
      "Recall (Test Set):  0.5969\n",
      "F1-Score (Test Set):  0.686\n",
      "roc-auc (test-proba):  0.7352\n",
      "roc-auc (train-proba):  0.7437\n",
      "          \n",
      "==========================================================\n",
      "          \n",
      "XGboost tuned\n",
      "          \n",
      "Score:  0.7423\n",
      "Accuracy (Test Set):  0.6715\n",
      "Precision (Test Set):  0.8924\n",
      "Recall (Test Set):  0.5175\n",
      "F1-Score (Test Set):  0.6551\n",
      "roc-auc (test-proba):  0.7423\n",
      "roc-auc (train-proba):  0.7571\n",
      "          \n",
      "==========================================================\n",
      "          \n"
     ]
    }
   ],
   "source": [
    "for name, model in models.items():\n",
    "    model.fit(X_l_train, y_l_train)\n",
    "    y_l_pred = model.predict(X_l_test)\n",
    "    y_l_pred_proba = model.predict_proba(X_l_test)\n",
    "    y_l_pred_train = model.predict(X_l_train)\n",
    "    y_l_pred_train_proba = model.predict_proba(X_l_train)\n",
    "    print(name)\n",
    "    print('          ')\n",
    "    model_eval(model, y_l_pred, X_l_train, y_l_train, X_l_test, y_l_test, y_l_pred_proba, y_l_pred_train_proba)\n",
    "    print('          ')\n",
    "    print('==========================================================')\n",
    "    print('          ')"
   ]
  },
  {
   "cell_type": "markdown",
   "id": "0e1cc4aa",
   "metadata": {},
   "source": [
    "# [Best Model]"
   ]
  },
  {
   "cell_type": "markdown",
   "id": "027e4f6e",
   "metadata": {},
   "source": [
    "Dari sekian model yang dicoba di atas, best model adalah model Logistic Regression. Kedua cara preprocessing tidak terlihat terlalu memengaruhi score dari model.\n",
    "\n",
    "Kami memprioritaskan:\n",
    "1. AUC score yang tinggi dan tidak memiliki perbedaan jauh di antara AUC-train dan AUC-test\n",
    "2. AUC-train < 1.00\n",
    "3. Recall score"
   ]
  },
  {
   "cell_type": "markdown",
   "id": "4b1ec920",
   "metadata": {},
   "source": [
    "Model Logistic Regression dengan Transformasi Logarithmic:\n",
    "- Score:  0.73\n",
    "- Accuracy (Test Set):  0.6467\n",
    "- Precision (Test Set):  0.6933\n",
    "- Recall (Test Set):  0.7426\n",
    "- F1-Score (Test Set):  0.7171\n",
    "- roc-auc (test-proba):  0.73\n",
    "- roc-auc (train-proba):  0.7373\n",
    "\n",
    "Best Parameters:\n",
    "- Best penalty : l2\n",
    "- Best C : 0.1\n",
    "- Best solver : liblinear"
   ]
  },
  {
   "cell_type": "markdown",
   "id": "45e52281",
   "metadata": {},
   "source": [
    "# [Soal Nomor 2] Feature Importance"
   ]
  },
  {
   "cell_type": "markdown",
   "id": "140815d6",
   "metadata": {},
   "source": [
    "## 2A. Feature Importance"
   ]
  },
  {
   "cell_type": "code",
   "execution_count": 32,
   "id": "745b3961",
   "metadata": {},
   "outputs": [],
   "source": [
    "best_llr = LogisticRegression(penalty='l2', C=0.1, solver='liblinear',random_state=42)\n",
    "best_llr.fit(X_llr_train, y_llr_train)\n",
    "\n",
    "importance_llr = best_llr.coef_[0]"
   ]
  },
  {
   "cell_type": "code",
   "execution_count": 45,
   "id": "4479cc4d",
   "metadata": {},
   "outputs": [
    {
     "data": {
      "text/html": [
       "<div>\n",
       "<style scoped>\n",
       "    .dataframe tbody tr th:only-of-type {\n",
       "        vertical-align: middle;\n",
       "    }\n",
       "\n",
       "    .dataframe tbody tr th {\n",
       "        vertical-align: top;\n",
       "    }\n",
       "\n",
       "    .dataframe thead th {\n",
       "        text-align: right;\n",
       "    }\n",
       "</style>\n",
       "<table border=\"1\" class=\"dataframe\">\n",
       "  <thead>\n",
       "    <tr style=\"text-align: right;\">\n",
       "      <th></th>\n",
       "      <th>Feature</th>\n",
       "      <th>Score</th>\n",
       "    </tr>\n",
       "  </thead>\n",
       "  <tbody>\n",
       "    <tr>\n",
       "      <th>0</th>\n",
       "      <td>Product_importance</td>\n",
       "      <td>0.138431</td>\n",
       "    </tr>\n",
       "    <tr>\n",
       "      <th>1</th>\n",
       "      <td>Gender</td>\n",
       "      <td>0.103564</td>\n",
       "    </tr>\n",
       "    <tr>\n",
       "      <th>2</th>\n",
       "      <td>prior_purchase_std</td>\n",
       "      <td>-0.180974</td>\n",
       "    </tr>\n",
       "    <tr>\n",
       "      <th>3</th>\n",
       "      <td>product_cost_norm</td>\n",
       "      <td>1.409413</td>\n",
       "    </tr>\n",
       "    <tr>\n",
       "      <th>4</th>\n",
       "      <td>discount_norm</td>\n",
       "      <td>2.610242</td>\n",
       "    </tr>\n",
       "    <tr>\n",
       "      <th>5</th>\n",
       "      <td>weight_norm</td>\n",
       "      <td>-0.210436</td>\n",
       "    </tr>\n",
       "    <tr>\n",
       "      <th>6</th>\n",
       "      <td>Warehouse_block_B</td>\n",
       "      <td>0.172538</td>\n",
       "    </tr>\n",
       "    <tr>\n",
       "      <th>7</th>\n",
       "      <td>Warehouse_block_C</td>\n",
       "      <td>0.194155</td>\n",
       "    </tr>\n",
       "    <tr>\n",
       "      <th>8</th>\n",
       "      <td>Warehouse_block_D</td>\n",
       "      <td>0.158731</td>\n",
       "    </tr>\n",
       "    <tr>\n",
       "      <th>9</th>\n",
       "      <td>Warehouse_block_F</td>\n",
       "      <td>0.134506</td>\n",
       "    </tr>\n",
       "    <tr>\n",
       "      <th>10</th>\n",
       "      <td>Mode_of_Shipment_Road</td>\n",
       "      <td>0.017114</td>\n",
       "    </tr>\n",
       "    <tr>\n",
       "      <th>11</th>\n",
       "      <td>Mode_of_Shipment_Ship</td>\n",
       "      <td>0.056444</td>\n",
       "    </tr>\n",
       "    <tr>\n",
       "      <th>12</th>\n",
       "      <td>Cost_Per_Weight</td>\n",
       "      <td>-0.788251</td>\n",
       "    </tr>\n",
       "    <tr>\n",
       "      <th>13</th>\n",
       "      <td>Cost_After_Disc</td>\n",
       "      <td>-0.010331</td>\n",
       "    </tr>\n",
       "    <tr>\n",
       "      <th>14</th>\n",
       "      <td>Weight_level</td>\n",
       "      <td>-0.900502</td>\n",
       "    </tr>\n",
       "  </tbody>\n",
       "</table>\n",
       "</div>"
      ],
      "text/plain": [
       "                  Feature     Score\n",
       "0      Product_importance  0.138431\n",
       "1                  Gender  0.103564\n",
       "2      prior_purchase_std -0.180974\n",
       "3       product_cost_norm  1.409413\n",
       "4           discount_norm  2.610242\n",
       "5             weight_norm -0.210436\n",
       "6       Warehouse_block_B  0.172538\n",
       "7       Warehouse_block_C  0.194155\n",
       "8       Warehouse_block_D  0.158731\n",
       "9       Warehouse_block_F  0.134506\n",
       "10  Mode_of_Shipment_Road  0.017114\n",
       "11  Mode_of_Shipment_Ship  0.056444\n",
       "12        Cost_Per_Weight -0.788251\n",
       "13        Cost_After_Disc -0.010331\n",
       "14           Weight_level -0.900502"
      ]
     },
     "execution_count": 45,
     "metadata": {},
     "output_type": "execute_result"
    }
   ],
   "source": [
    "# summarize feature importance\n",
    "feats_i = []\n",
    "feats = []\n",
    "feats_s = []\n",
    "for i,v in enumerate(importance_llr):\n",
    "    feats_i.append(i+1)\n",
    "    feats.append(X_llr_train.columns[i])\n",
    "    feats_s.append(v)\n",
    "    \n",
    "feat_imp = pd.DataFrame({\n",
    "#    '#': feats_i,\n",
    "    'Feature': feats,\n",
    "    'Score' : feats_s\n",
    "})\n",
    "#\tprint('Feature',i,':', X_llr_train.columns[i],'\\nScore:',v,'\\n------------------')\n",
    "\n",
    "feat_imp"
   ]
  },
  {
   "cell_type": "code",
   "execution_count": 44,
   "id": "8e3d876d",
   "metadata": {},
   "outputs": [
    {
     "data": {
      "image/png": "[encoded data removed]",
      "text/plain": [
       "<Figure size 432x288 with 1 Axes>"
      ]
     },
     "metadata": {
      "needs_background": "light"
     },
     "output_type": "display_data"
    }
   ],
   "source": [
    "# plot feature importance\n",
    "plt.bar([x for x in range(len(importance_llr))], importance_llr)\n",
    "plt.show()"
   ]
  },
  {
   "cell_type": "markdown",
   "id": "ff6f6dcc",
   "metadata": {},
   "source": [
    "Dari grafik di atas, fitur `discount_norm` dan `product_cost_norm` sangat memengaruhi keterlambatan produk sampai dan `Weight_level` dan `Cost_Per_Weight` sangat memengaruhi ketepatan waktu produk sampai.\n",
    "\n",
    "Semakin tinggi diskon yang ditawarkan ternyata semakin tinggi juga potensi keterlambatan, asumsinya adalah perusahaan mengabaikan service kepada customer karena sudah diberikan diskon."
   ]
  },
  {
   "attachments": {
    "424b93ed-b36e-42c5-b102-b839033dfbeb.png": {
     "image/png": "[encoded data removed]"
    }
   },
   "cell_type": "markdown",
   "id": "d6902b55",
   "metadata": {},
   "source": [
    "## 2B. Feature Selection![download.png](attachment:424b93ed-b36e-42c5-b102-b839033dfbeb.png)"
   ]
  },
  {
   "cell_type": "code",
   "execution_count": 40,
   "id": "619cf7c2",
   "metadata": {},
   "outputs": [],
   "source": [
    "X_llr_2 = df_log_lr[['discount_norm','product_cost_norm','Weight_level','Cost_Per_Weight']]\n",
    "y_llr_2 = df_log_lr[['Reached.on.Time_Y.N']]\n",
    "\n",
    "X_llr_2_train, X_llr_2_test, y_llr_2_train, y_llr_2_test = train_test_split(X_llr_2, y_llr_2, test_size=0.3, random_state=42,stratify=y_llr_2)"
   ]
  },
  {
   "cell_type": "code",
   "execution_count": 41,
   "id": "4c3a2f9f",
   "metadata": {},
   "outputs": [
    {
     "name": "stdout",
     "output_type": "stream",
     "text": [
      "Score:  0.6349\n",
      "Accuracy (Test Set):  0.6349\n",
      "Precision (Test Set):  0.676\n",
      "Recall (Test Set):  0.7574\n",
      "F1-Score (Test Set):  0.7144\n",
      "roc-auc (test-proba):  0.7294\n",
      "roc-auc (train-proba):  0.7322\n"
     ]
    }
   ],
   "source": [
    "best_llr = LogisticRegression(penalty='l2', C=0.1, solver='liblinear',random_state=42)\n",
    "best_llr.fit(X_llr_2_train, y_llr_2_train)\n",
    "\n",
    "y_llr_2_pred = best_llr.predict(X_llr_2_test)\n",
    "y_llr_2_pred_proba = best_llr.predict_proba(X_llr_2_test)\n",
    "y_llr_2_pred_train = best_llr.predict(X_llr_2_train)\n",
    "y_llr_2_pred_train_proba = best_llr.predict_proba(X_llr_2_train)\n",
    "\n",
    "model_eval(best_llr, y_llr_2_pred, X_llr_2_train, y_llr_2_train, X_llr_2_test, y_llr_2_test, y_llr_2_pred_proba, y_llr_2_pred_train_proba)"
   ]
  },
  {
   "cell_type": "markdown",
   "id": "af959c34",
   "metadata": {},
   "source": [
    "Setelah melakukan iterasi model sesuai dengan best parameters, nilai AUC-test turun dari 73% menjadi 72.94%, AUC-train turun dari 73.73% menjadi 73.22%, dan nilai Recall naik dari 74.26% ke 75.74%.\n",
    "\n",
    "Walaupun Feature Selection hanya menggunakan 4 fitur, penurunan nilai kedua score AUC tidak terlalu signifikan dan peningkatan nilai Recall cukup besar."
   ]
  },
  {
   "cell_type": "markdown",
   "id": "8b7b0f07",
   "metadata": {},
   "source": [
    "# [Soal Nomor 3] Git"
   ]
  },
  {
   "cell_type": "markdown",
   "id": "d896aa2c",
   "metadata": {},
   "source": [
    "Link Github:\n",
    "https://github.com/refaniefs/rakamin/tree/main/final-project"
   ]
  },
  {
   "cell_type": "markdown",
   "id": "295ada2f",
   "metadata": {},
   "source": [
    "# SELESAI"
   ]
  }
 ],
 "metadata": {
  "kernelspec": {
   "display_name": "Python 3 (ipykernel)",
   "language": "python",
   "name": "python3"
  },
  "language_info": {
   "codemirror_mode": {
    "name": "ipython",
    "version": 3
   },
   "file_extension": ".py",
   "mimetype": "text/x-python",
   "name": "python",
   "nbconvert_exporter": "python",
   "pygments_lexer": "ipython3",
   "version": "3.9.7"
  }
 },
 "nbformat": 4,
 "nbformat_minor": 5
}
